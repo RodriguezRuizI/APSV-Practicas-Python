{
 "cells": [
  {
   "cell_type": "markdown",
   "metadata": {},
   "source": [
    "In this workshop we are goin to work with the dataset of the UPM researchers and their publications. This dataset is composed by two files: a json and a csv. These files are an extended versión of the csv that we used in the web application workshops.\n",
    "\n",
    "Our goal is obtain as much information as we can from this dataset. We will achieve this in two ways: we will answer questions with numeric values (e.g. what is the average number publications of an UPM reaearcher? or, how many citations have the reseachers, suming all their publications?) or we will generate some charts to present information in a visual way (e.g. how is the relation between the publication year of a paper and its number of citations? or, how is the histogram of the number of publications by researcher?)"
   ]
  },
  {
   "cell_type": "code",
   "execution_count": 1,
   "metadata": {},
   "outputs": [],
   "source": [
    "import pandas as pd\n",
    "import matplotlib.pyplot as plt\n",
    "publications = pd.read_json(\"data/publications.json\")\n",
    "researchers = pd.read_csv(\"data/researchers.csv\")"
   ]
  },
  {
   "cell_type": "markdown",
   "metadata": {},
   "source": [
    "# Dataset exploration\n",
    "Any project related with data analysis starts with a study of the data itself: \n",
    "* What kind of data do we have?\n",
    "* How is it organized? How many columns have each dataframe?\n",
    "* Are there wrong or missing values?\n",
    "* What does each value of a column means? How many different values are in each column?\n",
    "\n",
    "With the examples we saw in the previous workshop try to answer that questions."
   ]
  },
  {
   "cell_type": "code",
   "execution_count": 2,
   "metadata": {},
   "outputs": [
    {
     "data": {
      "text/plain": [
       "count       7170\n",
       "unique      2828\n",
       "top       Javier\n",
       "freq         131\n",
       "Name: name, dtype: object"
      ]
     },
     "execution_count": 2,
     "metadata": {},
     "output_type": "execute_result"
    }
   ],
   "source": [
    "researchers.name.describe()"
   ]
  },
  {
   "cell_type": "markdown",
   "metadata": {},
   "source": [
    "# Data cleaning\n",
    "After a first view of the data and before to start working with it, we must clean it. This proccess is called preprocessing and it is crucial to be able to obtain good results. We will discard invalid data, fill missing values, drop redundant information, etc. We need to create a dataset with the following restrictions.\n",
    "* All reserachers should have name, last_name and auth_id. All publications should have title, journal and document_id. Drop the rows that do not match this condition (check https://pandas.pydata.org/pandas-docs/stable/reference/api/pandas.DataFrame.dropna.html)\n",
    "* There are no duplicated publications (same title) or researchers (same name and lastname). To find duplicates check https://pandas.pydata.org/pandas-docs/stable/reference/api/pandas.DataFrame.drop_duplicates.html\n",
    "* All numeric fields must be an integer number bigger or equal to 0. Replace missing values with 0, round decimal values"
   ]
  },
  {
   "cell_type": "code",
   "execution_count": 3,
   "metadata": {},
   "outputs": [
    {
     "name": "stdout",
     "output_type": "stream",
     "text": [
      "Raw counts\n",
      "\tresearchers:7175\n",
      "\tpublications:35964\n",
      "Without nulls counts\n",
      "\tresearchers:7170\n",
      "\tpublications:35757\n"
     ]
    }
   ],
   "source": [
    "print(\"Raw counts\\n\\tresearchers:{}\\n\\tpublications:{}\".format(len(researchers),len(publications)))\n",
    "researchers = researchers.dropna(subset=[\"name\",\"last_name\",\"auth_id\"])\n",
    "publications = publications.dropna(subset=[\"title\",\"journal\",\"document_id\"])\n",
    "print(\"Without nulls counts\\n\\tresearchers:{}\\n\\tpublications:{}\".format(len(researchers),len(publications)))"
   ]
  },
  {
   "cell_type": "code",
   "execution_count": 4,
   "metadata": {},
   "outputs": [
    {
     "name": "stdout",
     "output_type": "stream",
     "text": [
      "Without duplicates counts\n",
      "\tresearchers:7057\n",
      "\tpublications:35177\n"
     ]
    }
   ],
   "source": [
    "researchers = researchers.drop_duplicates(subset=[\"name\", \"last_name\"])\n",
    "publications = publications.drop_duplicates(subset=[\"title\"])\n",
    "print(\"Without duplicates counts\\n\\tresearchers:{}\\n\\tpublications:{}\".format(len(researchers),len(publications)))"
   ]
  },
  {
   "cell_type": "code",
   "execution_count": 5,
   "metadata": {
    "scrolled": true
   },
   "outputs": [
    {
     "name": "stdout",
     "output_type": "stream",
     "text": [
      "\n",
      "Without values count:\n",
      "    researchers\n",
      "        citations: 1\n",
      "        cited_by: 0\n",
      "        publications: 2\n",
      "    publications\n",
      "        cited_count: 7\n",
      "\n"
     ]
    },
    {
     "name": "stderr",
     "output_type": "stream",
     "text": [
      "C:\\Users\\jandi\\Anaconda3\\lib\\site-packages\\pandas\\core\\generic.py:5208: SettingWithCopyWarning: \n",
      "A value is trying to be set on a copy of a slice from a DataFrame.\n",
      "Try using .loc[row_indexer,col_indexer] = value instead\n",
      "\n",
      "See the caveats in the documentation: http://pandas.pydata.org/pandas-docs/stable/user_guide/indexing.html#returning-a-view-versus-a-copy\n",
      "  self[name] = value\n"
     ]
    }
   ],
   "source": [
    "print(\"\"\"\n",
    "Without values count:\n",
    "    researchers\n",
    "        citations: {}\n",
    "        cited_by: {}\n",
    "        publications: {}\n",
    "    publications\n",
    "        cited_count: {}\n",
    "\"\"\".format( \\\n",
    "           len(researchers[researchers.citations.isna()]), \\\n",
    "           len(researchers[researchers.cited_by.isna()]), \\\n",
    "           len(researchers[researchers.publications.isna()]), \\\n",
    "           len(publications[publications.cited_count.isna()])))\n",
    "\n",
    "researchers[researchers.citations.isna()].citations = 0\n",
    "researchers[researchers.cited_by.isna()].cited_by = 0\n",
    "researchers[researchers.publications.isna()].publications = 0\n",
    "publications[publications.cited_count.isna()].cited_count = 0"
   ]
  },
  {
   "cell_type": "markdown",
   "metadata": {},
   "source": [
    "Finally, to easy some calculations, lets convert the date column of the publications dataset to a datetime type"
   ]
  },
  {
   "cell_type": "code",
   "execution_count": 6,
   "metadata": {},
   "outputs": [],
   "source": [
    "publications.date = pd.to_datetime(publications.date)"
   ]
  },
  {
   "cell_type": "markdown",
   "metadata": {},
   "source": [
    "# Data analytics\n",
    "\n",
    "Once we know about the data we are using and we have cleaned it, we need to ask what kind of useful information we can extract from that data. It is a good idea to make a kind of brainstorming of possible questions, then take the list of resulting questions and sort them by their difficulty, finally begin to answer them starting by the easiest ones.\n",
    "\n",
    "Yoy may need to use a joined dataset to answer some questions"
   ]
  },
  {
   "cell_type": "code",
   "execution_count": 7,
   "metadata": {},
   "outputs": [],
   "source": [
    "# This operation creates a dataset combining researchers and publications producing a dataset with one row for each\n",
    "# combination of researcher-publication in which the researcher is one of the authors of the publication\n",
    "data = researchers.merge(publications.rename(columns={\"authors\":\"auth_id\"}).explode(\"auth_id\"), on=\"auth_id\")"
   ]
  },
  {
   "cell_type": "markdown",
   "metadata": {},
   "source": [
    "## Basic results\n",
    "\n",
    "Some of the esaiest question or more basic results we can obtain are the following:\n",
    "* Numeric results\n",
    "    * How many researchers are?\n",
    "    * How many publications are?\n",
    "    * How many of journals are?\n",
    "    * How many types of publications are?\n",
    "    * How many publications of each type are?\n",
    "    * How many publications have each researcher in average? (Use only researchers dataset)\n",
    "    * Which is the oldest publication?\n",
    "    * Which is the publication with most citations?\n",
    "    * Who is the researcher with more publications? (Use only researchers dataset)\n",
    "* Graphic results\n",
    "    * Histogram of the number of publications per researcher\n",
    "    * Bar chart of the number of publications by type\n",
    "    * Line chart of the number of publications per year\n",
    "\n",
    "Som of those questions are just countings, sumations or rankings, but other need data aggregations with ``groupby``.\n",
    "\n",
    "**Answer each question in a different cell of this notebook (remember that you can insert new cell from the Insert menu).**"
   ]
  },
  {
   "cell_type": "code",
   "execution_count": 8,
   "metadata": {},
   "outputs": [
    {
     "name": "stdout",
     "output_type": "stream",
     "text": [
      "How many researchers are? 7057\n",
      "How many publications are? 35177\n",
      "How many of journals are? 7815\n",
      "How many types of publications are? 12\n",
      "How many publications of each type are?\n",
      "type\n",
      "Article             21541\n",
      "Article in Press       84\n",
      "Book                   45\n",
      "Chapter               657\n",
      "Conference Paper    11450\n",
      "Editorial             277\n",
      "Erratum               110\n",
      "Letter                 74\n",
      "Note                  103\n",
      "Review                795\n",
      "Short Survey           32\n",
      "Name: type, dtype: int64\n",
      "How many publications have each researcher? 8.913536498936924\n",
      "What is the oldest publication?\n",
      "pages                                                    130-145\n",
      "authors                   [24580537700, 6504371460, 55463179200]\n",
      "title          Study of the impedance of a platinum electrode...\n",
      "document_id                                          26744475991\n",
      "date                                         1959-01-01 00:00:00\n",
      "journal                                      Electrochimica Acta\n",
      "openaccess                                                 False\n",
      "cited_count                                                   28\n",
      "type                                                     Article\n",
      "Name: 33538, dtype: object\n",
      "What is the publication with most citations?\n",
      "pages                                                  2507-2517\n",
      "authors                     [6507925214, 6701794860, 7004720416]\n",
      "title          A review of feature selection techniques in bi...\n",
      "document_id                                          35748932917\n",
      "date                                         2007-10-01 00:00:00\n",
      "journal                                           Bioinformatics\n",
      "openaccess                                                  True\n",
      "cited_count                                                 2406\n",
      "type                                                      Review\n",
      "Name: 2152, dtype: object\n",
      "Who is the researcher with more publications?\n",
      "Unnamed: 0                 0\n",
      "auth_id           7005227142\n",
      "name            José Antonio\n",
      "last_name              Cobos\n",
      "citations               5267\n",
      "cited_by                3940\n",
      "publications             343\n",
      "orcid                    NaN\n",
      "Name: 0, dtype: object\n"
     ]
    }
   ],
   "source": [
    "res = len(researchers)\n",
    "print(\"How many researchers are? {}\".format(res))\n",
    "res = len(publications)\n",
    "print(\"How many publications are? {}\".format(res))\n",
    "res = len(publications.journal.unique())\n",
    "print(\"How many of journals are? {}\".format(res))\n",
    "res = len(publications.type.unique())\n",
    "print(\"How many types of publications are? {}\".format(res))\n",
    "print(\"How many publications of each type are?\")\n",
    "print(publications.groupby(\"type\")[\"type\"].count())\n",
    "res = researchers.publications.mean()\n",
    "print(\"How many publications have each researcher? {}\".format(res))\n",
    "res = publications.sort_values(by=\"date\").iloc[0]\n",
    "print(\"What is the oldest publication?\\n{}\".format(res))\n",
    "res = publications.sort_values(by=\"cited_count\", ascending = False).iloc[0]\n",
    "print(\"What is the publication with most citations?\\n{}\".format(res))\n",
    "res = researchers.sort_values(by=\"publications\", ascending = False).iloc[0]\n",
    "print(\"Who is the researcher with more publications?\\n{}\".format(res))"
   ]
  },
  {
   "cell_type": "code",
   "execution_count": 9,
   "metadata": {},
   "outputs": [
    {
     "data": {
      "text/plain": [
       "<matplotlib.axes._subplots.AxesSubplot at 0x1f4f9496b48>"
      ]
     },
     "execution_count": 9,
     "metadata": {},
     "output_type": "execute_result"
    },
    {
     "data": {
      "image/png": "[encoded data removed]",
      "text/plain": [
       "<Figure size 432x288 with 1 Axes>"
      ]
     },
     "metadata": {
      "needs_background": "light"
     },
     "output_type": "display_data"
    }
   ],
   "source": [
    "#Histogram of the number of publications of each researcher\n",
    "researchers.publications.hist()"
   ]
  },
  {
   "cell_type": "code",
   "execution_count": 10,
   "metadata": {},
   "outputs": [
    {
     "data": {
      "text/plain": [
       "<matplotlib.axes._subplots.AxesSubplot at 0x1f4803b1608>"
      ]
     },
     "execution_count": 10,
     "metadata": {},
     "output_type": "execute_result"
    },
    {
     "data": {
      "image/png": "[encoded data removed]",
      "text/plain": [
       "<Figure size 432x288 with 1 Axes>"
      ]
     },
     "metadata": {
      "needs_background": "light"
     },
     "output_type": "display_data"
    }
   ],
   "source": [
    "#Bar chart of the number of publications by type\n",
    "publications.groupby(\"type\").document_id.count().plot.bar()"
   ]
  },
  {
   "cell_type": "code",
   "execution_count": 11,
   "metadata": {},
   "outputs": [
    {
     "data": {
      "text/plain": [
       "<matplotlib.axes._subplots.AxesSubplot at 0x1f48037d548>"
      ]
     },
     "execution_count": 11,
     "metadata": {},
     "output_type": "execute_result"
    },
    {
     "data": {
      "image/png": "[encoded data removed]",
      "text/plain": [
       "<Figure size 432x288 with 1 Axes>"
      ]
     },
     "metadata": {
      "needs_background": "light"
     },
     "output_type": "display_data"
    }
   ],
   "source": [
    "#Line chart of the number of publications per year\n",
    "def date2year(x):\n",
    "    return x.year\n",
    "publications.date.apply(date2year).value_counts().sort_index().plot()"
   ]
  },
  {
   "cell_type": "markdown",
   "metadata": {},
   "source": [
    "# Intermediate results\n",
    "\n",
    "* Numeric results\n",
    "    * How many publications of each researcher are in the data? Is this the same number than the column ``publications``?\n",
    "    * How many authors have each publication? (show 5)\n",
    "    * What is the average number of authors in a publication?\n",
    "    * What is the average number of pages in a publication depending of the publication type?\n",
    "    * What is the average number of citations in a publication depending of the publication type?\n",
    "    * How many years each researcher have been active? (difference between the publciationDate of the oldest and newest publications)\n",
    "* Graphic results\n",
    "    * Histogram of the number of researchers by the number of active years\n",
    "    * Histogram of the number of authors in a publication\n",
    "    * Scatter plot of the publication year vs the number of citations\n",
    "    * Chart of the average number of citations depending on the publication type\n",
    "    * Chart of the average number of pages depending on the publication type\n",
    "\n",
    "**Choose 5 questions from the list and answer each in a different cell.**"
   ]
  },
  {
   "cell_type": "code",
   "execution_count": 12,
   "metadata": {},
   "outputs": [
    {
     "name": "stdout",
     "output_type": "stream",
     "text": [
      "auth_id\n",
      "6503848928     2\n",
      "6503890565     3\n",
      "6503896634     6\n",
      "6503903714     1\n",
      "6503939551     1\n",
      "              ..\n",
      "57208623083    1\n",
      "57208639475    1\n",
      "57208670663    1\n",
      "57208685753    1\n",
      "57208701829    1\n",
      "Name: auth_id, Length: 5812, dtype: int64\n"
     ]
    },
    {
     "data": {
      "text/plain": [
       "auth_id\n",
       "6503848928      True\n",
       "6503890565     False\n",
       "6503896634      True\n",
       "6503903714      True\n",
       "6503939551      True\n",
       "               ...  \n",
       "57208623083     True\n",
       "57208639475     True\n",
       "57208670663     True\n",
       "57208685753     True\n",
       "57208701829     True\n",
       "Length: 5812, dtype: bool"
      ]
     },
     "execution_count": 12,
     "metadata": {},
     "output_type": "execute_result"
    }
   ],
   "source": [
    "# How many publications of each researcher are in the data?\n",
    "print(data.groupby(\"auth_id\")[\"auth_id\"].count())\n",
    "# If there is at least one false, then is not the same number\n",
    "data.groupby(\"auth_id\")[\"auth_id\"].count() == data.groupby(\"auth_id\")[\"publications\"].first()"
   ]
  },
  {
   "cell_type": "code",
   "execution_count": 13,
   "metadata": {
    "scrolled": true
   },
   "outputs": [
    {
     "data": {
      "text/html": [
       "<div>\n",
       "<style scoped>\n",
       "    .dataframe tbody tr th:only-of-type {\n",
       "        vertical-align: middle;\n",
       "    }\n",
       "\n",
       "    .dataframe tbody tr th {\n",
       "        vertical-align: top;\n",
       "    }\n",
       "\n",
       "    .dataframe thead th {\n",
       "        text-align: right;\n",
       "    }\n",
       "</style>\n",
       "<table border=\"1\" class=\"dataframe\">\n",
       "  <thead>\n",
       "    <tr style=\"text-align: right;\">\n",
       "      <th></th>\n",
       "      <th>pages</th>\n",
       "      <th>authors</th>\n",
       "      <th>title</th>\n",
       "      <th>document_id</th>\n",
       "      <th>date</th>\n",
       "      <th>journal</th>\n",
       "      <th>openaccess</th>\n",
       "      <th>cited_count</th>\n",
       "      <th>type</th>\n",
       "      <th>n_authors</th>\n",
       "    </tr>\n",
       "  </thead>\n",
       "  <tbody>\n",
       "    <tr>\n",
       "      <td>0</td>\n",
       "      <td>664-678</td>\n",
       "      <td>[57204955584, 57200520067, 24922369500, 244382...</td>\n",
       "      <td>High-Efficiency High-Bandwidth Four-Quadrant F...</td>\n",
       "      <td>85058136304</td>\n",
       "      <td>2019-06-01</td>\n",
       "      <td>IEEE Journal of Emerging and Selected Topics i...</td>\n",
       "      <td>False</td>\n",
       "      <td>0.0</td>\n",
       "      <td>Article</td>\n",
       "      <td>8</td>\n",
       "    </tr>\n",
       "    <tr>\n",
       "      <td>1</td>\n",
       "      <td>6356-6363</td>\n",
       "      <td>[7005227142, 57200519327, 57200511770, 2443825...</td>\n",
       "      <td>Energy-Buffered Single-Phase Inverter Operatin...</td>\n",
       "      <td>85060314395</td>\n",
       "      <td>2018-12-03</td>\n",
       "      <td>2018 IEEE Energy Conversion Congress and Expos...</td>\n",
       "      <td>False</td>\n",
       "      <td>2.0</td>\n",
       "      <td>Conference Paper</td>\n",
       "      <td>5</td>\n",
       "    </tr>\n",
       "    <tr>\n",
       "      <td>2</td>\n",
       "      <td>1293-1300</td>\n",
       "      <td>[57200511770, 57200519327, 56249124100, 244382...</td>\n",
       "      <td>ZVS transitions in Multi-Mode Single Stage Inv...</td>\n",
       "      <td>85060302761</td>\n",
       "      <td>2018-12-03</td>\n",
       "      <td>2018 IEEE Energy Conversion Congress and Expos...</td>\n",
       "      <td>False</td>\n",
       "      <td>1.0</td>\n",
       "      <td>Conference Paper</td>\n",
       "      <td>5</td>\n",
       "    </tr>\n",
       "    <tr>\n",
       "      <td>3</td>\n",
       "      <td>7375-7379</td>\n",
       "      <td>[57195619519, 57204116610, 24438258500, 700522...</td>\n",
       "      <td>Equivalent Parameters of Round and Litz Wire C...</td>\n",
       "      <td>85060302746</td>\n",
       "      <td>2018-12-03</td>\n",
       "      <td>2018 IEEE Energy Conversion Congress and Expos...</td>\n",
       "      <td>False</td>\n",
       "      <td>0.0</td>\n",
       "      <td>Conference Paper</td>\n",
       "      <td>5</td>\n",
       "    </tr>\n",
       "    <tr>\n",
       "      <td>4</td>\n",
       "      <td>4934-4939</td>\n",
       "      <td>[57200519327, 57200511770, 24438258500, 562491...</td>\n",
       "      <td>Digital Variable Frequency Control of a Single...</td>\n",
       "      <td>85060299891</td>\n",
       "      <td>2018-12-03</td>\n",
       "      <td>2018 IEEE Energy Conversion Congress and Expos...</td>\n",
       "      <td>False</td>\n",
       "      <td>1.0</td>\n",
       "      <td>Conference Paper</td>\n",
       "      <td>5</td>\n",
       "    </tr>\n",
       "  </tbody>\n",
       "</table>\n",
       "</div>"
      ],
      "text/plain": [
       "       pages                                            authors  \\\n",
       "0    664-678  [57204955584, 57200520067, 24922369500, 244382...   \n",
       "1  6356-6363  [7005227142, 57200519327, 57200511770, 2443825...   \n",
       "2  1293-1300  [57200511770, 57200519327, 56249124100, 244382...   \n",
       "3  7375-7379  [57195619519, 57204116610, 24438258500, 700522...   \n",
       "4  4934-4939  [57200519327, 57200511770, 24438258500, 562491...   \n",
       "\n",
       "                                               title  document_id       date  \\\n",
       "0  High-Efficiency High-Bandwidth Four-Quadrant F...  85058136304 2019-06-01   \n",
       "1  Energy-Buffered Single-Phase Inverter Operatin...  85060314395 2018-12-03   \n",
       "2  ZVS transitions in Multi-Mode Single Stage Inv...  85060302761 2018-12-03   \n",
       "3  Equivalent Parameters of Round and Litz Wire C...  85060302746 2018-12-03   \n",
       "4  Digital Variable Frequency Control of a Single...  85060299891 2018-12-03   \n",
       "\n",
       "                                             journal  openaccess  cited_count  \\\n",
       "0  IEEE Journal of Emerging and Selected Topics i...       False          0.0   \n",
       "1  2018 IEEE Energy Conversion Congress and Expos...       False          2.0   \n",
       "2  2018 IEEE Energy Conversion Congress and Expos...       False          1.0   \n",
       "3  2018 IEEE Energy Conversion Congress and Expos...       False          0.0   \n",
       "4  2018 IEEE Energy Conversion Congress and Expos...       False          1.0   \n",
       "\n",
       "               type  n_authors  \n",
       "0           Article          8  \n",
       "1  Conference Paper          5  \n",
       "2  Conference Paper          5  \n",
       "3  Conference Paper          5  \n",
       "4  Conference Paper          5  "
      ]
     },
     "execution_count": 13,
     "metadata": {},
     "output_type": "execute_result"
    }
   ],
   "source": [
    "#How many authors have each publication? (show 5)\n",
    "def author_len(x):\n",
    "    try:\n",
    "        return len(x)\n",
    "    except:\n",
    "        return 0\n",
    "publications[\"n_authors\"] = publications.authors.apply(author_len)\n",
    "publications.iloc[:5]"
   ]
  },
  {
   "cell_type": "code",
   "execution_count": 14,
   "metadata": {},
   "outputs": [
    {
     "name": "stdout",
     "output_type": "stream",
     "text": [
      "What is the average number of authors in a publication? 5.266480939250078\n"
     ]
    }
   ],
   "source": [
    "#What is the average number of authors in a publication?\n",
    "print(\"What is the average number of authors in a publication? \"+str(publications.n_authors.mean()))"
   ]
  },
  {
   "cell_type": "code",
   "execution_count": 15,
   "metadata": {},
   "outputs": [
    {
     "data": {
      "text/plain": [
       "type\n",
       "Article             1041.499368\n",
       "Article in Press      12.111111\n",
       "Book                 221.904762\n",
       "Chapter               17.284404\n",
       "Conference Paper       8.531924\n",
       "Editorial              2.615385\n",
       "Erratum                1.153846\n",
       "Letter                 2.802817\n",
       "Note                   4.790698\n",
       "Review                12.670504\n",
       "Short Survey           5.137931\n",
       "Name: n_pages, dtype: float64"
      ]
     },
     "execution_count": 15,
     "metadata": {},
     "output_type": "execute_result"
    }
   ],
   "source": [
    "#What is the average number of pages in a publication depending of the publication type?\n",
    "import numpy as np\n",
    "import re\n",
    "def range2num(x):\n",
    "    try:\n",
    "        x = re.sub(\"[a-zA-Z]+\", \"\", str(x))\n",
    "        range_values = [n.lstrip('0') for n in x.split(\"-\")]\n",
    "        return 1+int(max(range_values))-int(min(range_values))\n",
    "    except:\n",
    "        return np.nan\n",
    "publications[\"n_pages\"] = publications.pages.apply(range2num)\n",
    "publications.dropna(subset=[\"n_pages\"]).groupby(\"type\").n_pages.mean()"
   ]
  },
  {
   "cell_type": "code",
   "execution_count": 16,
   "metadata": {},
   "outputs": [
    {
     "data": {
      "text/plain": [
       "type\n",
       "Article             17.486441\n",
       "Article in Press     0.607143\n",
       "Book                51.866667\n",
       "Chapter              3.022866\n",
       "Conference Paper     4.654760\n",
       "Editorial            2.209386\n",
       "Erratum              0.736364\n",
       "Letter               8.864865\n",
       "Note                 5.145631\n",
       "Review              36.311083\n",
       "Short Survey        14.000000\n",
       "Name: cited_count, dtype: float64"
      ]
     },
     "execution_count": 16,
     "metadata": {},
     "output_type": "execute_result"
    }
   ],
   "source": [
    "#What is the average number of citations in a publication depending of the publication type?\n",
    "publications.dropna(subset=[\"cited_count\"]).groupby(\"type\").cited_count.mean()"
   ]
  },
  {
   "cell_type": "code",
   "execution_count": 17,
   "metadata": {},
   "outputs": [
    {
     "data": {
      "text/html": [
       "<div>\n",
       "<style scoped>\n",
       "    .dataframe tbody tr th:only-of-type {\n",
       "        vertical-align: middle;\n",
       "    }\n",
       "\n",
       "    .dataframe tbody tr th {\n",
       "        vertical-align: top;\n",
       "    }\n",
       "\n",
       "    .dataframe thead th {\n",
       "        text-align: right;\n",
       "    }\n",
       "</style>\n",
       "<table border=\"1\" class=\"dataframe\">\n",
       "  <thead>\n",
       "    <tr style=\"text-align: right;\">\n",
       "      <th></th>\n",
       "      <th>auth_id</th>\n",
       "      <th>date_max</th>\n",
       "      <th>date_min</th>\n",
       "      <th>active</th>\n",
       "    </tr>\n",
       "  </thead>\n",
       "  <tbody>\n",
       "    <tr>\n",
       "      <td>0</td>\n",
       "      <td>6503848928</td>\n",
       "      <td>2004.0</td>\n",
       "      <td>2000.0</td>\n",
       "      <td>5.0</td>\n",
       "    </tr>\n",
       "    <tr>\n",
       "      <td>1</td>\n",
       "      <td>6503890565</td>\n",
       "      <td>2017.0</td>\n",
       "      <td>1987.0</td>\n",
       "      <td>31.0</td>\n",
       "    </tr>\n",
       "    <tr>\n",
       "      <td>2</td>\n",
       "      <td>6503896634</td>\n",
       "      <td>1999.0</td>\n",
       "      <td>1987.0</td>\n",
       "      <td>13.0</td>\n",
       "    </tr>\n",
       "    <tr>\n",
       "      <td>3</td>\n",
       "      <td>6503903714</td>\n",
       "      <td>1997.0</td>\n",
       "      <td>1997.0</td>\n",
       "      <td>1.0</td>\n",
       "    </tr>\n",
       "    <tr>\n",
       "      <td>4</td>\n",
       "      <td>6503939551</td>\n",
       "      <td>2000.0</td>\n",
       "      <td>2000.0</td>\n",
       "      <td>1.0</td>\n",
       "    </tr>\n",
       "    <tr>\n",
       "      <td>...</td>\n",
       "      <td>...</td>\n",
       "      <td>...</td>\n",
       "      <td>...</td>\n",
       "      <td>...</td>\n",
       "    </tr>\n",
       "    <tr>\n",
       "      <td>5807</td>\n",
       "      <td>57208623083</td>\n",
       "      <td>2018.0</td>\n",
       "      <td>2018.0</td>\n",
       "      <td>1.0</td>\n",
       "    </tr>\n",
       "    <tr>\n",
       "      <td>5808</td>\n",
       "      <td>57208639475</td>\n",
       "      <td>2003.0</td>\n",
       "      <td>2003.0</td>\n",
       "      <td>1.0</td>\n",
       "    </tr>\n",
       "    <tr>\n",
       "      <td>5809</td>\n",
       "      <td>57208670663</td>\n",
       "      <td>2019.0</td>\n",
       "      <td>2019.0</td>\n",
       "      <td>1.0</td>\n",
       "    </tr>\n",
       "    <tr>\n",
       "      <td>5810</td>\n",
       "      <td>57208685753</td>\n",
       "      <td>2019.0</td>\n",
       "      <td>2019.0</td>\n",
       "      <td>1.0</td>\n",
       "    </tr>\n",
       "    <tr>\n",
       "      <td>5811</td>\n",
       "      <td>57208701829</td>\n",
       "      <td>2019.0</td>\n",
       "      <td>2019.0</td>\n",
       "      <td>1.0</td>\n",
       "    </tr>\n",
       "  </tbody>\n",
       "</table>\n",
       "<p>5812 rows × 4 columns</p>\n",
       "</div>"
      ],
      "text/plain": [
       "          auth_id  date_max  date_min  active\n",
       "0      6503848928    2004.0    2000.0     5.0\n",
       "1      6503890565    2017.0    1987.0    31.0\n",
       "2      6503896634    1999.0    1987.0    13.0\n",
       "3      6503903714    1997.0    1997.0     1.0\n",
       "4      6503939551    2000.0    2000.0     1.0\n",
       "...           ...       ...       ...     ...\n",
       "5807  57208623083    2018.0    2018.0     1.0\n",
       "5808  57208639475    2003.0    2003.0     1.0\n",
       "5809  57208670663    2019.0    2019.0     1.0\n",
       "5810  57208685753    2019.0    2019.0     1.0\n",
       "5811  57208701829    2019.0    2019.0     1.0\n",
       "\n",
       "[5812 rows x 4 columns]"
      ]
     },
     "execution_count": 17,
     "metadata": {},
     "output_type": "execute_result"
    }
   ],
   "source": [
    "#How many years each researcher have been active? (difference between the publciationDate of the oldest and newest publications)\n",
    "def date2year(x):\n",
    "    return x.year\n",
    "data[\"year\"] = data.date.apply(date2year)\n",
    "data_grouped = data.groupby(\"auth_id\",as_index=False).agg({\"year\":[\"max\", \"min\"]})\n",
    "data_grouped.columns = [\"auth_id\",\"date_max\", \"date_min\"]\n",
    "data_grouped[\"active\"] = data_grouped.date_max-data_grouped.date_min+1 #Calculate active time\n",
    "data_grouped"
   ]
  },
  {
   "cell_type": "code",
   "execution_count": 18,
   "metadata": {},
   "outputs": [
    {
     "data": {
      "text/plain": [
       "<matplotlib.axes._subplots.AxesSubplot at 0x1f480345c48>"
      ]
     },
     "execution_count": 18,
     "metadata": {},
     "output_type": "execute_result"
    },
    {
     "data": {
      "image/png": "[encoded data removed]",
      "text/plain": [
       "<Figure size 432x288 with 1 Axes>"
      ]
     },
     "metadata": {
      "needs_background": "light"
     },
     "output_type": "display_data"
    }
   ],
   "source": [
    "#Histogram of the number of researchers by the number of active years\n",
    "data_grouped.active.hist()"
   ]
  },
  {
   "cell_type": "code",
   "execution_count": 19,
   "metadata": {},
   "outputs": [
    {
     "data": {
      "text/plain": [
       "<matplotlib.axes._subplots.AxesSubplot at 0x1f4801b17c8>"
      ]
     },
     "execution_count": 19,
     "metadata": {},
     "output_type": "execute_result"
    },
    {
     "data": {
      "image/png": "[encoded data removed]",
      "text/plain": [
       "<Figure size 432x288 with 1 Axes>"
      ]
     },
     "metadata": {
      "needs_background": "light"
     },
     "output_type": "display_data"
    }
   ],
   "source": [
    "#Histogram of the number of authors in a publication\n",
    "publications.n_authors.hist()"
   ]
  },
  {
   "cell_type": "code",
   "execution_count": 20,
   "metadata": {},
   "outputs": [
    {
     "data": {
      "text/plain": [
       "<matplotlib.axes._subplots.AxesSubplot at 0x1f48018e148>"
      ]
     },
     "execution_count": 20,
     "metadata": {},
     "output_type": "execute_result"
    },
    {
     "data": {
      "image/png": "[encoded data removed]",
      "text/plain": [
       "<Figure size 432x288 with 1 Axes>"
      ]
     },
     "metadata": {
      "needs_background": "light"
     },
     "output_type": "display_data"
    }
   ],
   "source": [
    "#Scatter plot of the publication year vs the number of citations\n",
    "publications[\"year\"]=publications.date.apply(date2year)\n",
    "publications[[\"year\",\"cited_count\"]].plot.scatter(x=\"year\", y=\"cited_count\")"
   ]
  },
  {
   "cell_type": "code",
   "execution_count": 21,
   "metadata": {},
   "outputs": [
    {
     "data": {
      "text/plain": [
       "<matplotlib.axes._subplots.AxesSubplot at 0x1f48015ee48>"
      ]
     },
     "execution_count": 21,
     "metadata": {},
     "output_type": "execute_result"
    },
    {
     "data": {
      "image/png": "[encoded data removed]",
      "text/plain": [
       "<Figure size 432x288 with 1 Axes>"
      ]
     },
     "metadata": {
      "needs_background": "light"
     },
     "output_type": "display_data"
    }
   ],
   "source": [
    "#Chart of the average number of citations depending on the publication type\n",
    "publications.dropna(subset=[\"cited_count\"]).groupby(\"type\").cited_count.mean().plot.bar()"
   ]
  },
  {
   "cell_type": "code",
   "execution_count": 22,
   "metadata": {},
   "outputs": [
    {
     "data": {
      "text/plain": [
       "<matplotlib.axes._subplots.AxesSubplot at 0x1f4801299c8>"
      ]
     },
     "execution_count": 22,
     "metadata": {},
     "output_type": "execute_result"
    },
    {
     "data": {
      "image/png": "[encoded data removed]",
      "text/plain": [
       "<Figure size 432x288 with 1 Axes>"
      ]
     },
     "metadata": {
      "needs_background": "light"
     },
     "output_type": "display_data"
    }
   ],
   "source": [
    "#Chart of the average number of pages depending on the publication type\n",
    "publications.dropna(subset=[\"n_pages\"]).groupby(\"type\").n_pages.mean().plot.bar()"
   ]
  },
  {
   "cell_type": "markdown",
   "metadata": {},
   "source": [
    "## Advanced results\n",
    "\n",
    "The most difficult questions to answer usually are a small set which needs more explanation than a single line.\n",
    "\n",
    "* Coauthor: \n",
    "    One researcher is coatuhor with other if both appears as author in at least one publication. \n",
    "    * What is the average number of different coauthors of each researcher?\n",
    "    * What is the most frequent coauthor (their id) of each researcher?\n",
    "\n",
    "\n",
    "* H-index: \n",
    "    The h-index (https://en.wikipedia.org/wiki/H-index) is a metric that tries to describe the impact of a researcher based on the number of citations received in each publication. A researcher has a h-index of `n` if she has at least `n` publications with `n` or more citations.\n",
    "\n",
    "    * What is the h-index of each researcher?\n",
    "    * Chart of the publications and number of citations of a certain researcher, highlinting (in a different color) which publications contributed to the h-index\n",
    "\n",
    "![alt text](img/h-index.svg \"H-Index\")\n",
    "\n",
    "**Choose 1 group and solve it.**"
   ]
  },
  {
   "cell_type": "code",
   "execution_count": 23,
   "metadata": {},
   "outputs": [],
   "source": [
    "publications[\"authors2\"] = publications.authors\n",
    "data2 = researchers.merge(publications.rename(columns={\"authors2\":\"auth_id\"}).explode(\"auth_id\"), on=\"auth_id\")"
   ]
  },
  {
   "cell_type": "code",
   "execution_count": 24,
   "metadata": {},
   "outputs": [
    {
     "data": {
      "text/plain": [
       "auth_id\n",
       "6503848928     4\n",
       "6503890565     5\n",
       "6503896634     8\n",
       "6503903714     3\n",
       "6503939551     4\n",
       "              ..\n",
       "57208623083    8\n",
       "57208639475    6\n",
       "57208670663    4\n",
       "57208685753    5\n",
       "57208701829    3\n",
       "Name: authors, Length: 5812, dtype: int64"
      ]
     },
     "execution_count": 24,
     "metadata": {},
     "output_type": "execute_result"
    }
   ],
   "source": [
    "# Coauthors\n",
    "def coauthorCount(x):\n",
    "    coauths = {}\n",
    "    for i in x:\n",
    "        if i in coauths:\n",
    "            coauths[i] += 1\n",
    "        else:\n",
    "            coauths[i] = 0\n",
    "    return coauths\n",
    "\n",
    "data2.groupby(\"auth_id\")[\"authors\"].sum().apply(lambda x: len(coauthorCount(x))-1)"
   ]
  },
  {
   "cell_type": "code",
   "execution_count": 25,
   "metadata": {
    "scrolled": true
   },
   "outputs": [
    {
     "data": {
      "text/plain": [
       "auth_id\n",
       "6503848928      6507041750\n",
       "6503890565      8669447500\n",
       "6503896634     24370009100\n",
       "6503903714      6602840811\n",
       "6503939551      7202945116\n",
       "                  ...     \n",
       "57208623083     6602910559\n",
       "57208639475    23107265900\n",
       "57208670663    55994487100\n",
       "57208685753    22939175500\n",
       "57208701829    57195692330\n",
       "Name: authors, Length: 5812, dtype: int64"
      ]
     },
     "execution_count": 25,
     "metadata": {},
     "output_type": "execute_result"
    }
   ],
   "source": [
    "# What is the most frequent coauthor (their id) of each researcher?\n",
    "def getMax(x):\n",
    "    key = \"\"\n",
    "    value = -1\n",
    "    for i in x:\n",
    "        if x[i] > value:\n",
    "            value = x[i]\n",
    "            key = i\n",
    "    return i\n",
    "data2.groupby(\"auth_id\")[\"authors\"].sum().apply(lambda x: getMax(coauthorCount(x)))"
   ]
  },
  {
   "cell_type": "code",
   "execution_count": 26,
   "metadata": {
    "scrolled": true
   },
   "outputs": [
    {
     "data": {
      "text/plain": [
       "auth_id\n",
       "6503848928     0\n",
       "6503890565     1\n",
       "6503896634     5\n",
       "6503903714     1\n",
       "6503939551     1\n",
       "              ..\n",
       "57208623083    0\n",
       "57208639475    0\n",
       "57208670663    0\n",
       "57208685753    0\n",
       "57208701829    0\n",
       "Name: cited_count, Length: 5812, dtype: int64"
      ]
     },
     "execution_count": 26,
     "metadata": {},
     "output_type": "execute_result"
    }
   ],
   "source": [
    "# H-index\n",
    "def hindex(x):\n",
    "    x.sort()\n",
    "    for i in range(len(x),0,-1):\n",
    "        if x[len(x)-i] >= i:\n",
    "            return i\n",
    "    return 0        \n",
    "data.groupby(\"auth_id\")[\"cited_count\"].apply(lambda x: hindex(list(x)))"
   ]
  },
  {
   "cell_type": "code",
   "execution_count": 27,
   "metadata": {},
   "outputs": [
    {
     "data": {
      "image/png": "[encoded data removed]",
      "text/plain": [
       "<Figure size 1080x360 with 1 Axes>"
      ]
     },
     "metadata": {
      "needs_background": "light"
     },
     "output_type": "display_data"
    }
   ],
   "source": [
    "# Chart of the publications and number of citations of a certain researcher\n",
    "researcher_id = 7003501614\n",
    "citations = data[data[\"auth_id\"]==researcher_id][\"cited_count\"].sort_values(ascending=False).values\n",
    "h = hindex(list(citations))\n",
    "fig, ax = plt.subplots(figsize=(15,5))\n",
    "ax.bar(range(h),citations[citations>=h],color=\"green\")\n",
    "ax.bar(range(h, len(citations)),citations[citations<h],color=\"red\")\n",
    "plt.show(fig)"
   ]
  },
  {
   "cell_type": "code",
   "execution_count": null,
   "metadata": {},
   "outputs": [],
   "source": []
  }
 ],
 "metadata": {
  "kernelspec": {
   "display_name": "Python 3",
   "language": "python",
   "name": "python3"
  },
  "language_info": {
   "codemirror_mode": {
    "name": "ipython",
    "version": 3
   },
   "file_extension": ".py",
   "mimetype": "text/x-python",
   "name": "python",
   "nbconvert_exporter": "python",
   "pygments_lexer": "ipython3",
   "version": "3.8.3"
  }
 },
 "nbformat": 4,
 "nbformat_minor": 2
}
