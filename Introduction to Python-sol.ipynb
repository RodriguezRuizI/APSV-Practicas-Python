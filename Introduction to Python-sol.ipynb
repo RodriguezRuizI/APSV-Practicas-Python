{
 "cells": [
  {
   "cell_type": "markdown",
   "metadata": {},
   "source": [
    "# Python\n",
    "Python is a general propose programing language. In these workshops we will use Python 3.6. Python is an interpreted language as JavaScript and in opposition to Java or C which need to be compiled to run; this implies that some of the errors detected during the source compilation will not be noticed and will generate exceptions during execution.\n",
    "\n",
    "In this notebook we are going to see some very basic examples of how to use Python and some of its libraries, to get a detailed view of the language check https://docs.python.org/3/tutorial/\n",
    "\n",
    "## Variables and types\n",
    "Python is a strongly typed language. Python has 4 basic types: integer number `int`, decimal numbers `float`, booleans `bool` and text strings `str`. When we define a variable, we will not specify the type."
   ]
  },
  {
   "cell_type": "code",
   "execution_count": 1,
   "metadata": {},
   "outputs": [
    {
     "name": "stdout",
     "output_type": "stream",
     "text": [
      "Hello World!\n"
     ]
    }
   ],
   "source": [
    "# This is a comment\n",
    "# Comments starts with the character #\n",
    "\n",
    "# This frame is a cell which can be executed individually. To execute a cell press Ctrl+Enter\n",
    "\n",
    "print(\"Hello World!\")"
   ]
  },
  {
   "cell_type": "code",
   "execution_count": 2,
   "metadata": {},
   "outputs": [],
   "source": [
    "# An integer\n",
    "myInt = 10\n",
    "\n",
    "# A float value\n",
    "myFloat = 3.14\n",
    "\n",
    "# A boolean\n",
    "myBool = True\n",
    "\n",
    "# A string, you can use simple quotes ' or double quotes \"\n",
    "myStr = \"example1\"\n",
    "myStr2 = 'example2'\n"
   ]
  },
  {
   "cell_type": "markdown",
   "metadata": {},
   "source": [
    "To write in the standard output, in other words to print something, we will use the function `print()`"
   ]
  },
  {
   "cell_type": "code",
   "execution_count": 3,
   "metadata": {},
   "outputs": [
    {
     "name": "stdout",
     "output_type": "stream",
     "text": [
      "10\n",
      "3.14\n",
      "True\n",
      "example1\n",
      "example2\n",
      "example1 10\n"
     ]
    }
   ],
   "source": [
    "print(myInt)\n",
    "print(myFloat)\n",
    "print(myBool)\n",
    "print(myStr)\n",
    "print(myStr2)\n",
    "\n",
    "# As Python is strongly typed variables will not change its type automatically, so, for example, if we want to concatenate\n",
    "# an int with an str, we have to convert the int into a str first\n",
    "print(myStr + \" \" + str(myInt))"
   ]
  },
  {
   "cell_type": "markdown",
   "metadata": {},
   "source": [
    "## Basic operations"
   ]
  },
  {
   "cell_type": "code",
   "execution_count": 4,
   "metadata": {},
   "outputs": [
    {
     "name": "stdout",
     "output_type": "stream",
     "text": [
      "8\n",
      "-2\n",
      "15\n",
      "0.6\n",
      "243\n"
     ]
    }
   ],
   "source": [
    "# Add\n",
    "print(3 + 5)\n",
    "\n",
    "# Subtract\n",
    "print(3 - 5)\n",
    "\n",
    "# Multiply\n",
    "print(3 * 5)\n",
    "\n",
    "# Divide\n",
    "print(3 / 5)\n",
    "\n",
    "# Power \n",
    "print(3 ** 5)"
   ]
  },
  {
   "cell_type": "markdown",
   "metadata": {},
   "source": [
    "## Lists"
   ]
  },
  {
   "cell_type": "code",
   "execution_count": 5,
   "metadata": {},
   "outputs": [
    {
     "name": "stdout",
     "output_type": "stream",
     "text": [
      "1\n",
      "APSV\n",
      "[1, 2]\n",
      "[3, True]\n",
      "[1, 2]\n",
      "[3, True, 'APSV']\n"
     ]
    }
   ],
   "source": [
    "myList = [1, 2, 3, True, \"APSV\"]\n",
    "\n",
    "# Access an element in certain position\n",
    "print(myList[0])\n",
    "\n",
    "# We can access elements at the end by using negative index. -1 is the last value, -2 the previous one, etc\n",
    "print(myList[-1])\n",
    "\n",
    "# We can obtain a sublist using this syntax myList[start:end]\n",
    "# If start is not specified the beginning of the list will be used, analogously with end and the end of the list\n",
    "print(myList[0:2])\n",
    "print(myList[-3:-1])\n",
    "print(myList[:2])\n",
    "print(myList[2:])"
   ]
  },
  {
   "cell_type": "code",
   "execution_count": 6,
   "metadata": {},
   "outputs": [
    {
     "name": "stdout",
     "output_type": "stream",
     "text": [
      "[4, 2, 3, True, 'APSV']\n",
      "[4, 2, 3, True, 'APSV', 'CRIS']\n",
      "[4, 23, 2, 3, True, 'APSV', 'CRIS']\n",
      "[4, 23, 2, 3, True, 'APSV']\n",
      "[4, 2, 3, True, 'APSV']\n",
      "[4, 2, True, 'APSV']\n",
      "4\n"
     ]
    }
   ],
   "source": [
    "# To modify a value\n",
    "myList[0] = 4\n",
    "print(myList)\n",
    "\n",
    "# To add elements at the end of the list\n",
    "myList.append(\"CRIS\")\n",
    "print(myList)\n",
    "\n",
    "# To add elements in a certain position\n",
    "myList.insert(1,23)\n",
    "print(myList)\n",
    "\n",
    "# To remove the last element\n",
    "lastElement = myList.pop()\n",
    "print(myList)\n",
    "\n",
    "# To remove a certain element\n",
    "del(myList[1])\n",
    "print(myList)\n",
    "\n",
    "# To remove an element by value\n",
    "myList.remove(3)\n",
    "print(myList)\n",
    "\n",
    "# To obtain the length of any collection\n",
    "print(len(myList))"
   ]
  },
  {
   "cell_type": "markdown",
   "metadata": {},
   "source": [
    "## Dictionaries\n",
    "Dictionaries are collections of key-value pairs. These collections can be accessed like a list but using the keys instead of the indexes.\n",
    "\n",
    "The values can have different types, even is common to have dictionaries inside dictionaries (eg. to work with a json)."
   ]
  },
  {
   "cell_type": "code",
   "execution_count": 7,
   "metadata": {},
   "outputs": [
    {
     "name": "stdout",
     "output_type": "stream",
     "text": [
      "{'key': 'value', 'APSV': 23, 'arr': [1, 2, 3]}\n",
      "[1, 2, 3]\n"
     ]
    }
   ],
   "source": [
    "# Dictionaries are marked with {} characters\n",
    "# The syntax to set a key-value pair is \"key\": \"value\"\n",
    "myDict = { \"key\": \"value\", \"APSV\": 23, \"arr\" : [1,2,3] }\n",
    "print(myDict)\n",
    "\n",
    "# Access by key\n",
    "print(myDict[\"arr\"])"
   ]
  },
  {
   "cell_type": "markdown",
   "metadata": {},
   "source": [
    "## Boolean operations"
   ]
  },
  {
   "cell_type": "code",
   "execution_count": 8,
   "metadata": {},
   "outputs": [
    {
     "name": "stdout",
     "output_type": "stream",
     "text": [
      "False\n",
      "True\n",
      "False\n",
      "True\n"
     ]
    }
   ],
   "source": [
    "# AND\n",
    "print(myInt <5 and myBool)\n",
    "\n",
    "# OR\n",
    "print(myInt >5 or myBool)\n",
    "\n",
    "# Negate\n",
    "print(not myBool)\n",
    "\n",
    "# Check element in list\n",
    "print(4 in myList)"
   ]
  },
  {
   "cell_type": "markdown",
   "metadata": {},
   "source": [
    "## Flow control\n",
    "In Python, code blocks are defined by their indentation level in opposition of other languages which surrounds the blocks with `{}`."
   ]
  },
  {
   "cell_type": "code",
   "execution_count": 9,
   "metadata": {},
   "outputs": [
    {
     "name": "stdout",
     "output_type": "stream",
     "text": [
      "myInt is greater than 5\n"
     ]
    }
   ],
   "source": [
    "# Conditional\n",
    "if myInt > 5:\n",
    "    print(\"myInt is greater than 5\")"
   ]
  },
  {
   "cell_type": "code",
   "execution_count": 10,
   "metadata": {},
   "outputs": [
    {
     "name": "stdout",
     "output_type": "stream",
     "text": [
      "myInt is greater than 5\n"
     ]
    }
   ],
   "source": [
    "# Conditional with else\n",
    "if myInt < 5:\n",
    "    print(\"myInt is less than 5\")\n",
    "else:\n",
    "    print(\"myInt is greater than 5\")"
   ]
  },
  {
   "cell_type": "code",
   "execution_count": 11,
   "metadata": {},
   "outputs": [
    {
     "name": "stdout",
     "output_type": "stream",
     "text": [
      "myInt is less than 15\n"
     ]
    }
   ],
   "source": [
    "# Nested conditionals\n",
    "if myInt < 5:\n",
    "    print(\"myInt is less than 5\")\n",
    "elif myInt < 15:\n",
    "    print(\"myInt is less than 15\")\n",
    "else:\n",
    "    print(\"myInt is greater than 15\")"
   ]
  },
  {
   "cell_type": "code",
   "execution_count": 12,
   "metadata": {},
   "outputs": [
    {
     "name": "stdout",
     "output_type": "stream",
     "text": [
      "4\n",
      "2\n",
      "True\n",
      "APSV\n"
     ]
    }
   ],
   "source": [
    "# For loop to iterate over list elements\n",
    "for i in myList:\n",
    "    print(i)"
   ]
  },
  {
   "cell_type": "code",
   "execution_count": 13,
   "metadata": {},
   "outputs": [
    {
     "name": "stdout",
     "output_type": "stream",
     "text": [
      "0 - 4\n",
      "1 - 2\n",
      "2 - True\n",
      "3 - APSV\n"
     ]
    }
   ],
   "source": [
    "# For loop to iterate over values in a range\n",
    "for i in range(len(myList)):\n",
    "    print(str(i) + \" - \" + str(myList[i]))"
   ]
  },
  {
   "cell_type": "code",
   "execution_count": 14,
   "metadata": {},
   "outputs": [
    {
     "name": "stdout",
     "output_type": "stream",
     "text": [
      "0\n",
      "1\n",
      "2\n",
      "3\n",
      "4\n",
      "5\n",
      "6\n",
      "7\n",
      "8\n",
      "9\n"
     ]
    }
   ],
   "source": [
    "# While loop\n",
    "a = 0\n",
    "while a < 10:\n",
    "    print(a)\n",
    "    a += 1"
   ]
  },
  {
   "cell_type": "code",
   "execution_count": 15,
   "metadata": {},
   "outputs": [
    {
     "name": "stdout",
     "output_type": "stream",
     "text": [
      "1 is odd\n",
      "3 is odd\n",
      "5 is odd\n",
      "7 is odd\n",
      "9 is odd\n"
     ]
    }
   ],
   "source": [
    "# Break and continue\n",
    "a = 0\n",
    "while True:\n",
    "    a += 1\n",
    "    if a > 10:\n",
    "        break\n",
    "    if a % 2 == 0:\n",
    "        continue\n",
    "    print(a, \"is odd\")"
   ]
  },
  {
   "cell_type": "markdown",
   "metadata": {},
   "source": [
    "# Methods\n",
    "To define a method in python we will use the following syntax `def methodName(arg1, arg2 = \"default value\", arg3)`."
   ]
  },
  {
   "cell_type": "code",
   "execution_count": 16,
   "metadata": {},
   "outputs": [
    {
     "name": "stdout",
     "output_type": "stream",
     "text": [
      "5\n",
      "3\n"
     ]
    }
   ],
   "source": [
    "def sumValues(a, b=1):\n",
    "    return a + b\n",
    "\n",
    "print(sumValues(2,3))\n",
    "print(sumValues(2))"
   ]
  },
  {
   "cell_type": "markdown",
   "metadata": {},
   "source": [
    "## Import modules\n",
    "In Python external dependencies are usually called modules, to import them we will use `import moduleName`\n",
    "\n",
    "If you are interested in know more about Python or and additional modules you may need to install them, to do that Python have a command named `pip` to install external libraries (similar to `npm` in Javascript) that you can run in a terminal.\n",
    "\n",
    "`pip install [name of library]`"
   ]
  },
  {
   "cell_type": "code",
   "execution_count": 17,
   "metadata": {
    "scrolled": true
   },
   "outputs": [
    {
     "name": "stdout",
     "output_type": "stream",
     "text": [
      "1.4142135623730951\n",
      "0.7967726575013082\n"
     ]
    }
   ],
   "source": [
    "import math\n",
    "print(math.sqrt(2))\n",
    "import random\n",
    "print(random.random())"
   ]
  },
  {
   "cell_type": "markdown",
   "metadata": {},
   "source": [
    "## Errors\n",
    "Until now, all the code that we have executed have run correctly, but when we do more complex things, we can get execution errors. Now we are going to run code with errors to see what kind of errors can we found and how they look"
   ]
  },
  {
   "cell_type": "code",
   "execution_count": 18,
   "metadata": {},
   "outputs": [
    {
     "ename": "NameError",
     "evalue": "name 'var33' is not defined",
     "output_type": "error",
     "traceback": [
      "\u001b[1;31m---------------------------------------------------------------------------\u001b[0m",
      "\u001b[1;31mNameError\u001b[0m                                 Traceback (most recent call last)",
      "\u001b[1;32m<ipython-input-18-77ca63c450d1>\u001b[0m in \u001b[0;36m<module>\u001b[1;34m\u001b[0m\n\u001b[0;32m      1\u001b[0m \u001b[1;31m# Name error\u001b[0m\u001b[1;33m\u001b[0m\u001b[1;33m\u001b[0m\u001b[1;33m\u001b[0m\u001b[0m\n\u001b[0;32m      2\u001b[0m \u001b[1;31m# This error is usually caused by syntax errors\u001b[0m\u001b[1;33m\u001b[0m\u001b[1;33m\u001b[0m\u001b[1;33m\u001b[0m\u001b[0m\n\u001b[1;32m----> 3\u001b[1;33m \u001b[0mprint\u001b[0m\u001b[1;33m(\u001b[0m\u001b[0mvar33\u001b[0m\u001b[1;33m)\u001b[0m\u001b[1;33m\u001b[0m\u001b[1;33m\u001b[0m\u001b[0m\n\u001b[0m",
      "\u001b[1;31mNameError\u001b[0m: name 'var33' is not defined"
     ]
    }
   ],
   "source": [
    "# Name error\n",
    "# This error is usually caused by syntax errors\n",
    "print(var33)"
   ]
  },
  {
   "cell_type": "code",
   "execution_count": 19,
   "metadata": {
    "scrolled": true
   },
   "outputs": [
    {
     "ename": "TypeError",
     "evalue": "can only concatenate str (not \"int\") to str",
     "output_type": "error",
     "traceback": [
      "\u001b[1;31m---------------------------------------------------------------------------\u001b[0m",
      "\u001b[1;31mTypeError\u001b[0m                                 Traceback (most recent call last)",
      "\u001b[1;32m<ipython-input-19-92793966c4e9>\u001b[0m in \u001b[0;36m<module>\u001b[1;34m\u001b[0m\n\u001b[0;32m      1\u001b[0m \u001b[1;31m# Syntax error\u001b[0m\u001b[1;33m\u001b[0m\u001b[1;33m\u001b[0m\u001b[1;33m\u001b[0m\u001b[0m\n\u001b[0;32m      2\u001b[0m \u001b[1;31m# Usually related with the variable types\u001b[0m\u001b[1;33m\u001b[0m\u001b[1;33m\u001b[0m\u001b[1;33m\u001b[0m\u001b[0m\n\u001b[1;32m----> 3\u001b[1;33m \u001b[0mprint\u001b[0m\u001b[1;33m(\u001b[0m\u001b[1;34m\"hello \"\u001b[0m \u001b[1;33m+\u001b[0m \u001b[1;36m3\u001b[0m\u001b[1;33m)\u001b[0m\u001b[1;33m\u001b[0m\u001b[1;33m\u001b[0m\u001b[0m\n\u001b[0m",
      "\u001b[1;31mTypeError\u001b[0m: can only concatenate str (not \"int\") to str"
     ]
    }
   ],
   "source": [
    "# Syntax error\n",
    "# Usually related with the variable types\n",
    "print(\"hello \" + 3)"
   ]
  },
  {
   "cell_type": "code",
   "execution_count": 20,
   "metadata": {},
   "outputs": [
    {
     "ename": "ZeroDivisionError",
     "evalue": "division by zero",
     "output_type": "error",
     "traceback": [
      "\u001b[1;31m---------------------------------------------------------------------------\u001b[0m",
      "\u001b[1;31mZeroDivisionError\u001b[0m                         Traceback (most recent call last)",
      "\u001b[1;32m<ipython-input-20-37dfd9aa2dff>\u001b[0m in \u001b[0;36m<module>\u001b[1;34m\u001b[0m\n\u001b[0;32m      1\u001b[0m \u001b[1;31m# ZeroDivisionError\u001b[0m\u001b[1;33m\u001b[0m\u001b[1;33m\u001b[0m\u001b[1;33m\u001b[0m\u001b[0m\n\u001b[1;32m----> 2\u001b[1;33m \u001b[0mprint\u001b[0m\u001b[1;33m(\u001b[0m\u001b[1;36m1\u001b[0m \u001b[1;33m/\u001b[0m \u001b[1;36m0\u001b[0m\u001b[1;33m)\u001b[0m\u001b[1;33m\u001b[0m\u001b[1;33m\u001b[0m\u001b[0m\n\u001b[0m",
      "\u001b[1;31mZeroDivisionError\u001b[0m: division by zero"
     ]
    }
   ],
   "source": [
    "# ZeroDivisionError\n",
    "print(1 / 0)"
   ]
  },
  {
   "cell_type": "code",
   "execution_count": 21,
   "metadata": {},
   "outputs": [
    {
     "ename": "IndexError",
     "evalue": "list index out of range",
     "output_type": "error",
     "traceback": [
      "\u001b[1;31m---------------------------------------------------------------------------\u001b[0m",
      "\u001b[1;31mIndexError\u001b[0m                                Traceback (most recent call last)",
      "\u001b[1;32m<ipython-input-21-1c63dbb38530>\u001b[0m in \u001b[0;36m<module>\u001b[1;34m\u001b[0m\n\u001b[0;32m      2\u001b[0m \u001b[1;31m# This happens when we try to access to a index out of bounds or an undefined index\u001b[0m\u001b[1;33m\u001b[0m\u001b[1;33m\u001b[0m\u001b[1;33m\u001b[0m\u001b[0m\n\u001b[0;32m      3\u001b[0m \u001b[0ma\u001b[0m \u001b[1;33m=\u001b[0m \u001b[1;33m[\u001b[0m\u001b[1;36m1\u001b[0m\u001b[1;33m,\u001b[0m \u001b[1;36m2\u001b[0m\u001b[1;33m]\u001b[0m\u001b[1;33m\u001b[0m\u001b[1;33m\u001b[0m\u001b[0m\n\u001b[1;32m----> 4\u001b[1;33m \u001b[0mprint\u001b[0m\u001b[1;33m(\u001b[0m\u001b[0ma\u001b[0m\u001b[1;33m[\u001b[0m\u001b[1;36m4\u001b[0m\u001b[1;33m]\u001b[0m\u001b[1;33m)\u001b[0m\u001b[1;33m\u001b[0m\u001b[1;33m\u001b[0m\u001b[0m\n\u001b[0m",
      "\u001b[1;31mIndexError\u001b[0m: list index out of range"
     ]
    }
   ],
   "source": [
    "# IndexError\n",
    "# This happens when we try to access to a index out of bounds or an undefined index\n",
    "a = [1, 2]\n",
    "print(a[4])"
   ]
  },
  {
   "cell_type": "markdown",
   "metadata": {},
   "source": [
    "## Classes\n",
    "As Java and other object oriented languages, Python can use classes. These classes can be instantiated to create object of that class.\n",
    "\n",
    "https://docs.python.org/3/tutorial/classes.html"
   ]
  },
  {
   "cell_type": "code",
   "execution_count": 22,
   "metadata": {},
   "outputs": [
    {
     "name": "stdout",
     "output_type": "stream",
     "text": [
      "1 2\n",
      "2.23606797749979\n"
     ]
    }
   ],
   "source": [
    "class Complex:\n",
    "    # The __init__ method is the constructor of the class\n",
    "    def __init__(self, realpart, imagpart):\n",
    "        self.r = realpart\n",
    "        self.i = imagpart\n",
    "    # All methods should declare first a parameter named self, which is the object itself\n",
    "    def mod(self):\n",
    "        return math.sqrt(self.r**2+self.i**2)\n",
    "\n",
    "c = Complex(1,2)\n",
    "print(c.r,c.i)\n",
    "print(c.mod())"
   ]
  },
  {
   "cell_type": "markdown",
   "metadata": {},
   "source": [
    "## Problems\n",
    "### Problem 1\n",
    "Design a method to calculate the cosine distance between two lists of floats ``x`` and ``y``. The cosine distance or cosine similarity is a measure of the angle between two vectors https://en.wikipedia.org/wiki/Cosine_similarity.\n",
    "\n",
    "$D =\\cos(\\theta) = {\\mathbf{A} \\cdot \\mathbf{B} \\over \\|\\mathbf{A}\\| \\|\\mathbf{B}\\|} = \\frac{ \\sum\\limits_{i=1}^{n}{A_i  B_i} }{ \\sqrt{\\sum\\limits_{i=1}^{n}{A_i^2}}  \\sqrt{\\sum\\limits_{i=1}^{n}{B_i^2}} } $"
   ]
  },
  {
   "cell_type": "code",
   "execution_count": 23,
   "metadata": {},
   "outputs": [],
   "source": [
    "def cos_distance( x, y ):\n",
    "    ab = 0\n",
    "    a2 = 0\n",
    "    b2 = 0\n",
    "    for i in range(len(x)):\n",
    "        ab += x[i] * y[i]\n",
    "        a2 += x[i] * x[i]\n",
    "        b2 += y[i] * y[i]\n",
    "    return ab / math.sqrt(a2*b2)"
   ]
  },
  {
   "cell_type": "code",
   "execution_count": 24,
   "metadata": {},
   "outputs": [
    {
     "name": "stdout",
     "output_type": "stream",
     "text": [
      "0.7142857142857143\n"
     ]
    }
   ],
   "source": [
    "# Try it\n",
    "print(cos_distance([1,2,3], [3,2,1]))"
   ]
  },
  {
   "cell_type": "markdown",
   "metadata": {},
   "source": [
    "### Problem 2\n",
    "Design a method that creates a dictionary with ``n`` vectors identified with keys ``v1, v2, ... vn``. The vectors should have dimension ``m`` and their components should be random numbers between 0 and 1 (these numbers can be generated with ``random.random()``)"
   ]
  },
  {
   "cell_type": "code",
   "execution_count": 25,
   "metadata": {},
   "outputs": [],
   "source": [
    "def generate_vectors( n, m ):\n",
    "    vectors = {}\n",
    "    for i in range(n):\n",
    "        v = []\n",
    "        for j in range(m):\n",
    "            v.append(random.random())\n",
    "        vectors[\"v\"+str(i+1)] = v\n",
    "    return vectors"
   ]
  },
  {
   "cell_type": "code",
   "execution_count": 26,
   "metadata": {},
   "outputs": [
    {
     "name": "stdout",
     "output_type": "stream",
     "text": [
      "{'v1': [0.8226455537333732, 0.547418196021902, 0.3529449119690482], 'v2': [0.6211232718370667, 0.4303942027368012, 0.86409794123809], 'v3': [0.1593340432848661, 0.7292609654919089, 0.736806125205375], 'v4': [0.03537390140672869, 0.9945314511752265, 0.2545201676260498], 'v5': [0.6514341214455062, 0.7186546872554617, 0.13799697083821327]}\n"
     ]
    }
   ],
   "source": [
    "# Try it\n",
    "print(generate_vectors(5, 3))"
   ]
  },
  {
   "cell_type": "markdown",
   "metadata": {},
   "source": [
    "### Problem 3\n",
    "Design a method that receives a dictionary of vectors and returns a matrix (list of lists) with the distance between each pair of vectors.\n",
    "\n",
    "```python\n",
    "vectors = {\"v1\": [], \"v2\": [], \"v3\": []}\n",
    "\n",
    "distances = [[cos_distance(v1,v1), cos_distance(v1,v2), cos_distance(v1,v3)],\n",
    "             [cos_distance(v2,v1), cos_distance(v2,v2), cos_distance(v2,v3)],\n",
    "             [cos_distance(v3,v1), cos_distance(v3,v2), cos_distance(v3,v3)]]\n",
    "```"
   ]
  },
  {
   "cell_type": "code",
   "execution_count": 27,
   "metadata": {},
   "outputs": [],
   "source": [
    "def distance_matrix( vectors ):\n",
    "    distances = []\n",
    "    for key1 in vectors:\n",
    "        dist = []\n",
    "        for key2 in vectors:\n",
    "            dist.append(cos_distance(vectors[key1], vectors[key2]))\n",
    "        distances.append(dist)\n",
    "    return distances"
   ]
  },
  {
   "cell_type": "code",
   "execution_count": 28,
   "metadata": {},
   "outputs": [
    {
     "name": "stdout",
     "output_type": "stream",
     "text": [
      "[[1.0, 0.7857142857142857, 0.7857142857142857], [0.7857142857142857, 1.0, 0.7857142857142857], [0.7857142857142857, 0.7857142857142857, 1.0]]\n"
     ]
    }
   ],
   "source": [
    "# Try it\n",
    "print(distance_matrix( {\"v1\": [1,2,3], \"v2\": [2,3,1], \"v3\": [3,1,2]} ))"
   ]
  },
  {
   "cell_type": "markdown",
   "metadata": {},
   "source": [
    "### Problem 4\n",
    "Design a method that receives a matrix of numbers and return the minimum value"
   ]
  },
  {
   "cell_type": "code",
   "execution_count": 29,
   "metadata": {},
   "outputs": [],
   "source": [
    "def get_min( distances ):\n",
    "    min_value = distances[0][0]\n",
    "    for i in distances:\n",
    "        for j in i:\n",
    "            min_value = min(min_value, j)\n",
    "    return min_value"
   ]
  },
  {
   "cell_type": "code",
   "execution_count": 30,
   "metadata": {},
   "outputs": [
    {
     "name": "stdout",
     "output_type": "stream",
     "text": [
      "0.1\n"
     ]
    }
   ],
   "source": [
    "# Try it\n",
    "print(get_min([[.1,.2,.3],[.4,.5,.6],[.7,.8,.9]]))"
   ]
  },
  {
   "cell_type": "code",
   "execution_count": 31,
   "metadata": {},
   "outputs": [
    {
     "name": "stdout",
     "output_type": "stream",
     "text": [
      "0.33187854457648236\n"
     ]
    }
   ],
   "source": [
    "# All together!\n",
    "\n",
    "# Generate 10 vectors of dimension 10\n",
    "vectors = generate_vectors(10,10)\n",
    "\n",
    "# Calculate the distance between all vectors\n",
    "distances = distance_matrix(vectors)\n",
    "\n",
    "# Get the minimum distance\n",
    "print(get_min(distances))"
   ]
  },
  {
   "cell_type": "markdown",
   "metadata": {},
   "source": [
    "___\n",
    "# Numpy and Matplotlib\n",
    "__NumPy__ (http://www.numpy.org/) is the fundamental package for scientific computing with Python. It contains among other things:\n",
    "- a powerful N-dimensional array object\n",
    "- sophisticated (broadcasting) functions\n",
    "- tools for integrating C/C++ and Fortran code\n",
    "- useful linear algebra, Fourier transform, and random number capabilities\n",
    "\n",
    "Besides its obvious scientific uses, NumPy can also be used as an efficient multi-dimensional container of generic data. Arbitrary data-types can be defined. This allows NumPy to seamlessly and speedily integrate with a wide variety of databases.\n",
    "\n",
    "__Matplotlib__ (https://matplotlib.org/) is a Python 2D plotting library which produces publication quality figures in a variety of hardcopy formats and interactive environments across platforms.\n",
    "\n",
    "\n",
    "We are not going to use NumPy directly, but some of the libraries we are going to use need it to work.\n",
    "\n",
    "We are using Matplotlib to create many kinds of charts and visualize our data. There are many ways to generate a plot with this library but we are going to follow a common step to generate all charts (even if in some cases this is not the best process)."
   ]
  },
  {
   "cell_type": "code",
   "execution_count": 32,
   "metadata": {},
   "outputs": [],
   "source": [
    "# To import these libraries we use these lines\n",
    "import numpy as np\n",
    "import matplotlib.pyplot as plt"
   ]
  },
  {
   "cell_type": "code",
   "execution_count": 33,
   "metadata": {},
   "outputs": [
    {
     "data": {
      "image/png": "[encoded data removed]",
      "text/plain": [
       "<Figure size 504x360 with 4 Axes>"
      ]
     },
     "metadata": {
      "needs_background": "light"
     },
     "output_type": "display_data"
    }
   ],
   "source": [
    "# To create a new figure, we are going to use always the next steps\n",
    "# Note that the method returns 2 values, fig and ax, this can be usually found in python\n",
    "fig, ax = plt.subplots(nrows=2,ncols=2,figsize=(7,5))\n",
    "# The three parameters, nrows, ncols and figsize are optionaly defined\n",
    "# We can define a matrix of subplots by changing the values of nrows and ncols\n",
    "# We can modify the size of the matrix with the arguments of figsize\n",
    "# If we don't specify this parameter, the figure will have the minimum size to fit all the drawings\n",
    "\n",
    "# Here we will define the charts, labels, grid, etc\n",
    "\n",
    "# Finally we should tell matplotlib to show the figure we have defined\n",
    "plt.show(fig)"
   ]
  },
  {
   "cell_type": "code",
   "execution_count": 34,
   "metadata": {},
   "outputs": [
    {
     "data": {
      "text/plain": [
       "<matplotlib.axes._subplots.AxesSubplot at 0x26a18ad5e08>"
      ]
     },
     "execution_count": 34,
     "metadata": {},
     "output_type": "execute_result"
    }
   ],
   "source": [
    "# Variable ax is a numpy array with all the subplots that we define\n",
    "# We can access to each subplot by its coordinates\n",
    "ax[0,0] # This is the same as ax[0][0]"
   ]
  },
  {
   "cell_type": "code",
   "execution_count": 35,
   "metadata": {},
   "outputs": [
    {
     "data": {
      "image/png": "[encoded data removed]",
      "text/plain": [
       "<Figure size 504x360 with 4 Axes>"
      ]
     },
     "metadata": {
      "needs_background": "light"
     },
     "output_type": "display_data"
    }
   ],
   "source": [
    "fig, ax = plt.subplots(nrows=2,ncols=2,figsize=(7,5))\n",
    "\n",
    "# Sample function\n",
    "t = np.arange(0.0, 2.0, 0.01)\n",
    "s = 1 + np.sin(2 * np.pi * t)\n",
    "\n",
    "# To plot a line in a certain subplot we can use\n",
    "ax[0,0].plot(t,s) # t are the horizontal values and s the vertical ones\n",
    "ax[1,0].plot(s,'g') # If we define only one series it will be taken as the vertical values\n",
    "# We can define de color of a plot after the values of the line\n",
    "\n",
    "plt.show(fig)"
   ]
  },
  {
   "cell_type": "markdown",
   "metadata": {},
   "source": [
    "## Plots\n",
    "There are a huge number of different plots available in matplotlib, we are going to see the most basic ones\n",
    "https://matplotlib.org/api/axes_api.html#plotting\n",
    "\n",
    "### Line plot\n",
    "https://matplotlib.org/api/_as_gen/matplotlib.axes.Axes.plot.html?highlight=plot#matplotlib.axes.Axes.plot\n",
    "\n",
    "We can define a string after de data to modify the style of the line which will be plotted. This strings are defined in this way ``'[color][marker][line style]``, for example ``'b--'`` is a dashed blue line or ``'ro'`` is a sequence of red circles.\n",
    "\n",
    "There are many options to modify the plot style:\n",
    "\n",
    "**Colors**\n",
    "\n",
    "|character|color  |\n",
    "| --- | --- |\n",
    "|``'b'``  |blue   |\n",
    "|``'g'``  |green  |\n",
    "|``'r'``  |red    |\n",
    "|``'c'``  |cyan   |\n",
    "|``'m'``  |magenta|\n",
    "|``'y'``  |yellow |\n",
    "|``'k'``  |black  |\n",
    "|``'w'``  |white  |\n",
    "\n",
    "**Markers**\n",
    "\n",
    "|character |description |\n",
    "| --- | --- |\n",
    "|``'.'``|point marker         |\n",
    "|``','``|pixel marker         |\n",
    "|``'o'``|circle marker        |\n",
    "|``'v'``|triangle_down marker |\n",
    "|``'^'``|triangle_up marker   |\n",
    "|``'<'``|triangle_left marker |\n",
    "|``'>'``|triangle_right marker|\n",
    "|``'1'``|tri_down marker      |\n",
    "|``'2'``|tri_up marker        |\n",
    "|``'3'``|tri_left marker      |\n",
    "|``'4'``|tri_right marker     |\n",
    "|``'s'``|square marker        |\n",
    "|``'p'``|pentagon marker      |\n",
    "|``'*'``|star marker          |\n",
    "|``'h'``|hexagon1 marker      |\n",
    "|``'H'``|hexagon2 marker      |\n",
    "|``'+'``|plus marker          |\n",
    "|``'x'``|x marker             |\n",
    "|``'D'``|diamond marker       |\n",
    "|``'d'``|thin_diamond marker  |\n",
    "|``'_'``|hline marker         |\n",
    "\n",
    "**Line Styles**   \n",
    "\n",
    "|character|description|\n",
    "| --- | --- |\n",
    "|``'-'`` |solid line style   |\n",
    "|``'--'``|dashed line style  |\n",
    "|``'-.'``|dash-dot line style|\n",
    "|``':'`` |dotted line style  |\n"
   ]
  },
  {
   "cell_type": "code",
   "execution_count": 36,
   "metadata": {},
   "outputs": [
    {
     "data": {
      "image/png": "[encoded data removed]",
      "text/plain": [
       "<Figure size 504x360 with 1 Axes>"
      ]
     },
     "metadata": {
      "needs_background": "light"
     },
     "output_type": "display_data"
    }
   ],
   "source": [
    "fig, ax = plt.subplots(figsize=(7,5))\n",
    "\n",
    "# Plot\n",
    "ax.plot(t,s) \n",
    "ax.plot(t,2*s,'g--') # We can plot several lines in the same chart\n",
    "ax.plot(t,4*s,'r,')\n",
    "\n",
    "plt.show(fig)"
   ]
  },
  {
   "cell_type": "markdown",
   "metadata": {},
   "source": [
    "### Bar plot\n",
    "https://matplotlib.org/api/_as_gen/matplotlib.pyplot.bar.html"
   ]
  },
  {
   "cell_type": "code",
   "execution_count": 37,
   "metadata": {},
   "outputs": [
    {
     "data": {
      "image/png": "[encoded data removed]",
      "text/plain": [
       "<Figure size 504x360 with 1 Axes>"
      ]
     },
     "metadata": {
      "needs_background": "light"
     },
     "output_type": "display_data"
    }
   ],
   "source": [
    "fig, ax = plt.subplots(figsize=(7,5))\n",
    "\n",
    "# Sample data about programing language popularity\n",
    "x = [\"Python\", \"Java\", \"Javascript\", \"C#\", \"PHP\"]\n",
    "y = [25.13,21.98,8.35,7.5,7.36]\n",
    "\n",
    "# Plot\n",
    "ax.bar(x,y) \n",
    "\n",
    "plt.show(fig)"
   ]
  },
  {
   "cell_type": "markdown",
   "metadata": {},
   "source": [
    "### Scatter plot\n",
    "https://matplotlib.org/api/_as_gen/matplotlib.axes.Axes.scatter.html#matplotlib.axes.Axes.scatter"
   ]
  },
  {
   "cell_type": "code",
   "execution_count": 38,
   "metadata": {},
   "outputs": [
    {
     "data": {
      "image/png": "[encoded data removed]",
      "text/plain": [
       "<Figure size 504x360 with 1 Axes>"
      ]
     },
     "metadata": {
      "needs_background": "light"
     },
     "output_type": "display_data"
    }
   ],
   "source": [
    "fig, ax = plt.subplots(figsize=(7,5))\n",
    "\n",
    "# Sample data\n",
    "x = np.arange(0, 10, .1)\n",
    "y = (x+np.random.rand(100))**2\n",
    "\n",
    "# Plot\n",
    "ax.scatter(x,y) \n",
    "ax.scatter(x,-y)\n",
    "\n",
    "plt.show(fig)"
   ]
  },
  {
   "cell_type": "markdown",
   "metadata": {},
   "source": [
    "### Histogram plot\n",
    "https://matplotlib.org/api/_as_gen/matplotlib.pyplot.hist.html#matplotlib.pyplot.hist"
   ]
  },
  {
   "cell_type": "code",
   "execution_count": 39,
   "metadata": {
    "scrolled": true
   },
   "outputs": [
    {
     "data": {
      "image/png": "[encoded data removed]",
      "text/plain": [
       "<Figure size 504x360 with 1 Axes>"
      ]
     },
     "metadata": {
      "needs_background": "light"
     },
     "output_type": "display_data"
    }
   ],
   "source": [
    "fig, ax = plt.subplots(figsize=(7,5))\n",
    "\n",
    "# Sample data\n",
    "marks = [5.9, 7.9, 7.4, 6.2, 5.7, 8.3, 6  , 6.4, 8.1, 7.1, 5.7, 6.8, 6.2, 6.9, 7.2, 6.8, 7.3, 8.3, 5.3, 7.2, 5.8, \n",
    "         5.3, 6.8, 6.9, 5.5, 5.6, 7.7, 8.4, 6.5, 4.4, 6.8, 9.3, 5.7, 9.5, 7.1, 5.9, 8.2, 9  , 6.6, 6.8, 4.9, 6.9, \n",
    "         6.2, 6.8, 9.1, 5.8, 7.3, 4.7, 7.4, 3.1, 8.5, 7.9, 5.8, 7.9, 5.1, 5.2, 7.8, 6.3, 6.5, 5.3, 7.5, 6.8, 6.6, \n",
    "         6.7, 7.8, 7.6, 10 , 5.8, 8.1, 7.8, 8.5, 5.4, 8.1, 3.6, 6  , 8  , 6.1, 4.9, 6.3, 5.2, 7.3, 7  , 6.7, 5.9, \n",
    "         4.2, 5.2, 8.5, 9.2, 7.1, 8.7, 6.6, 8  , 6.9, 5  , 5.9, 8.1, 7  , 8.2, 7.7, 4.2]\n",
    "\n",
    "# Plot\n",
    "ax.hist(marks)\n",
    "\n",
    "plt.show(fig)"
   ]
  },
  {
   "cell_type": "markdown",
   "metadata": {},
   "source": [
    "## Axes modifications and labels\n",
    "\n",
    "If we do not configure anything, matplotlib will generate the axes scales just big enough to fit the data. But in sometimes we may want to define a certain range (eg. if we are plotting exams marks, we may want to plot form 0 to 10 in the horizontal axe) or we may want to use a different precission.\n",
    "\n",
    "In addition, is a good practice to include labels in both axes and a title over the chart"
   ]
  },
  {
   "cell_type": "code",
   "execution_count": 40,
   "metadata": {},
   "outputs": [
    {
     "data": {
      "image/png": "[encoded data removed]",
      "text/plain": [
       "<Figure size 504x360 with 1 Axes>"
      ]
     },
     "metadata": {
      "needs_background": "light"
     },
     "output_type": "display_data"
    }
   ],
   "source": [
    "fig, ax = plt.subplots(figsize=(7,5))\n",
    "\n",
    "ax.hist(marks)\n",
    "\n",
    "# We can specify the ranges of bot axes\n",
    "ax.set_xlim(0, 10)\n",
    "ax.set_ylim(0, 30)\n",
    "\n",
    "# We can also specify the divisions of the axes\n",
    "ax.set_yticks(np.arange(0,32,2))\n",
    "\n",
    "# Activate the grid\n",
    "ax.grid()\n",
    "\n",
    "# Set a title\n",
    "ax.set_title(\"Histogram of last exam's marks\")\n",
    "\n",
    "# Set axes labels\n",
    "ax.set_xlabel(\"Grade\")\n",
    "ax.set_ylabel(\"Number of students\")\n",
    "\n",
    "plt.show(fig)"
   ]
  },
  {
   "cell_type": "markdown",
   "metadata": {},
   "source": [
    "## Exporting images\n",
    "We can export our images to use them anywhere. It is always suggested to use vector formats (like svg or eps) if it is possible."
   ]
  },
  {
   "cell_type": "code",
   "execution_count": 41,
   "metadata": {},
   "outputs": [],
   "source": [
    "# We specify the file name and the format\n",
    "# bbox_inches='tight' removes the margins in the image\n",
    "fig.savefig(\"marksHistogram.svg\", format=\"svg\", bbox_inches='tight')"
   ]
  },
  {
   "cell_type": "markdown",
   "metadata": {},
   "source": [
    "## Problems\n",
    "\n",
    "### Problem 1\n",
    "Generate a list of vectors with the method `generate_vectors` that we previously coded. Plot one chart for each vector; each of those charts should be a bar chart with the distances to the other vectors (tip: use the method `distance_matrix`)"
   ]
  },
  {
   "cell_type": "code",
   "execution_count": 42,
   "metadata": {},
   "outputs": [
    {
     "data": {
      "image/png": "[encoded data removed]",
      "text/plain": [
       "<Figure size 504x1800 with 5 Axes>"
      ]
     },
     "metadata": {
      "needs_background": "light"
     },
     "output_type": "display_data"
    }
   ],
   "source": [
    "n = 5\n",
    "vectors = generate_vectors(n, 10)\n",
    "distances = distance_matrix(vectors)\n",
    "labels = vectors.keys()\n",
    "\n",
    "fig, ax = plt.subplots(nrows=n, figsize=(7,5*n))\n",
    "for i in range(n):\n",
    "    ax[i].bar(labels, distances[i])\n",
    "    ax[i].set_title(\"Cosine distances to v\" + str(i+1))\n",
    "    ax[i].set_xlabel(\"Vectors\" )\n",
    "    ax[i].set_ylabel(\"Distance\")\n",
    "plt.show(fig)"
   ]
  },
  {
   "cell_type": "markdown",
   "metadata": {},
   "source": [
    "### Problem 2\n",
    "Combine two kinds of charts (line, bars, scatter, etc) in one plot"
   ]
  },
  {
   "cell_type": "code",
   "execution_count": 43,
   "metadata": {},
   "outputs": [
    {
     "data": {
      "image/png": "[encoded data removed]",
      "text/plain": [
       "<Figure size 504x360 with 1 Axes>"
      ]
     },
     "metadata": {
      "needs_background": "light"
     },
     "output_type": "display_data"
    }
   ],
   "source": [
    "fig, ax = plt.subplots(figsize=(7,5))\n",
    "\n",
    "# Sample data\n",
    "x = np.arange(0, 10, .1)\n",
    "y = (x+np.random.rand(100)-.5)**2\n",
    "\n",
    "# Plot\n",
    "ax.scatter(x,y) \n",
    "ax.plot(x,x**2,'r')\n",
    "\n",
    "plt.show(fig)"
   ]
  },
  {
   "cell_type": "markdown",
   "metadata": {},
   "source": [
    "___\n",
    "# Pandas\n",
    "## Python Data Analysis Library\n",
    "pandas is an open source, BSD-licensed library providing high-performance, easy-to-use data structures and data analysis tools for the Python programming language.\n",
    "https://pandas.pydata.org/\n",
    "\n",
    "The basic data structure of Pandas is the dataframe. A dataframe is a collection of tabulated data, similar to a SQL table. Dataframes must always have an index column.\n",
    "\n",
    "The introductory guide of pandas covers more contents than those which we are going to use in this case, but it is recommended to give a quick view to it: https://pandas.pydata.org/pandas-docs/version/0.23.4/10min.html"
   ]
  },
  {
   "cell_type": "code",
   "execution_count": 44,
   "metadata": {},
   "outputs": [],
   "source": [
    "import pandas as pd"
   ]
  },
  {
   "cell_type": "markdown",
   "metadata": {
    "collapsed": true
   },
   "source": [
    "### Load data\n",
    "We can load data into dataframes from different sources\n",
    "https://pandas.pydata.org/pandas-docs/stable/io.html"
   ]
  },
  {
   "cell_type": "code",
   "execution_count": 45,
   "metadata": {},
   "outputs": [],
   "source": [
    "# The path of the file starts in the same directory of the notebook\n",
    "publications = pd.read_json(\"data/publications.json\")\n",
    "researchers = pd.read_csv(\"data/researchers.csv\")"
   ]
  },
  {
   "cell_type": "markdown",
   "metadata": {
    "collapsed": true
   },
   "source": [
    "### Index\n",
    "By default the index of a dataframe is a column with incrementing integers. "
   ]
  },
  {
   "cell_type": "code",
   "execution_count": 46,
   "metadata": {},
   "outputs": [
    {
     "data": {
      "text/html": [
       "<div>\n",
       "<style scoped>\n",
       "    .dataframe tbody tr th:only-of-type {\n",
       "        vertical-align: middle;\n",
       "    }\n",
       "\n",
       "    .dataframe tbody tr th {\n",
       "        vertical-align: top;\n",
       "    }\n",
       "\n",
       "    .dataframe thead th {\n",
       "        text-align: right;\n",
       "    }\n",
       "</style>\n",
       "<table border=\"1\" class=\"dataframe\">\n",
       "  <thead>\n",
       "    <tr style=\"text-align: right;\">\n",
       "      <th></th>\n",
       "      <th>Unnamed: 0</th>\n",
       "      <th>auth_id</th>\n",
       "      <th>name</th>\n",
       "      <th>last_name</th>\n",
       "      <th>citations</th>\n",
       "      <th>cited_by</th>\n",
       "      <th>publications</th>\n",
       "      <th>orcid</th>\n",
       "    </tr>\n",
       "  </thead>\n",
       "  <tbody>\n",
       "    <tr>\n",
       "      <td>1</td>\n",
       "      <td>1</td>\n",
       "      <td>55708653400</td>\n",
       "      <td>Javier</td>\n",
       "      <td>LLorca</td>\n",
       "      <td>9830.0</td>\n",
       "      <td>6350</td>\n",
       "      <td>301.0</td>\n",
       "      <td>NaN</td>\n",
       "    </tr>\n",
       "    <tr>\n",
       "      <td>2</td>\n",
       "      <td>2</td>\n",
       "      <td>7007057622</td>\n",
       "      <td>Manuel</td>\n",
       "      <td>Elices</td>\n",
       "      <td>8251.0</td>\n",
       "      <td>4563</td>\n",
       "      <td>285.0</td>\n",
       "      <td>NaN</td>\n",
       "    </tr>\n",
       "  </tbody>\n",
       "</table>\n",
       "</div>"
      ],
      "text/plain": [
       "   Unnamed: 0      auth_id    name last_name  citations  cited_by  \\\n",
       "1           1  55708653400  Javier    LLorca     9830.0      6350   \n",
       "2           2   7007057622  Manuel    Elices     8251.0      4563   \n",
       "\n",
       "   publications orcid  \n",
       "1         301.0   NaN  \n",
       "2         285.0   NaN  "
      ]
     },
     "execution_count": 46,
     "metadata": {},
     "output_type": "execute_result"
    }
   ],
   "source": [
    "# Accessing the rows with index within the specified range\n",
    "researchers[1:3]"
   ]
  },
  {
   "cell_type": "code",
   "execution_count": 47,
   "metadata": {},
   "outputs": [
    {
     "data": {
      "text/plain": [
       "Unnamed: 0                1\n",
       "auth_id         55708653400\n",
       "name                 Javier\n",
       "last_name            LLorca\n",
       "citations              9830\n",
       "cited_by               6350\n",
       "publications            301\n",
       "orcid                   NaN\n",
       "Name: 1, dtype: object"
      ]
     },
     "execution_count": 47,
     "metadata": {},
     "output_type": "execute_result"
    }
   ],
   "source": [
    "# To get a single row we must use the method iloc\n",
    "researchers.iloc[1]"
   ]
  },
  {
   "cell_type": "code",
   "execution_count": 48,
   "metadata": {},
   "outputs": [
    {
     "data": {
      "text/plain": [
       "RangeIndex(start=0, stop=7175, step=1)"
      ]
     },
     "execution_count": 48,
     "metadata": {},
     "output_type": "execute_result"
    }
   ],
   "source": [
    "# Getting the index column as a list\n",
    "researchers.index"
   ]
  },
  {
   "cell_type": "markdown",
   "metadata": {
    "collapsed": true
   },
   "source": [
    "### Access to data column\n",
    "We can retrieve the columns data as if the dataframe was a dictionary"
   ]
  },
  {
   "cell_type": "code",
   "execution_count": 49,
   "metadata": {},
   "outputs": [
    {
     "data": {
      "text/plain": [
       "0       José Antonio\n",
       "1             Javier\n",
       "2             Manuel\n",
       "3         Marcela G.\n",
       "4             Javier\n",
       "            ...     \n",
       "7170        Miguel Á\n",
       "7171              A.\n",
       "7172    Noemi García\n",
       "7173          Victor\n",
       "7174            Juan\n",
       "Name: name, Length: 7175, dtype: object"
      ]
     },
     "execution_count": 49,
     "metadata": {},
     "output_type": "execute_result"
    }
   ],
   "source": [
    "# Get a single column\n",
    "researchers[\"name\"]\n",
    "# Or\n",
    "researchers.name"
   ]
  },
  {
   "cell_type": "code",
   "execution_count": 50,
   "metadata": {},
   "outputs": [
    {
     "data": {
      "text/html": [
       "<div>\n",
       "<style scoped>\n",
       "    .dataframe tbody tr th:only-of-type {\n",
       "        vertical-align: middle;\n",
       "    }\n",
       "\n",
       "    .dataframe tbody tr th {\n",
       "        vertical-align: top;\n",
       "    }\n",
       "\n",
       "    .dataframe thead th {\n",
       "        text-align: right;\n",
       "    }\n",
       "</style>\n",
       "<table border=\"1\" class=\"dataframe\">\n",
       "  <thead>\n",
       "    <tr style=\"text-align: right;\">\n",
       "      <th></th>\n",
       "      <th>name</th>\n",
       "      <th>publications</th>\n",
       "    </tr>\n",
       "  </thead>\n",
       "  <tbody>\n",
       "    <tr>\n",
       "      <td>0</td>\n",
       "      <td>José Antonio</td>\n",
       "      <td>343.0</td>\n",
       "    </tr>\n",
       "    <tr>\n",
       "      <td>1</td>\n",
       "      <td>Javier</td>\n",
       "      <td>301.0</td>\n",
       "    </tr>\n",
       "    <tr>\n",
       "      <td>2</td>\n",
       "      <td>Manuel</td>\n",
       "      <td>285.0</td>\n",
       "    </tr>\n",
       "    <tr>\n",
       "      <td>3</td>\n",
       "      <td>Marcela G.</td>\n",
       "      <td>280.0</td>\n",
       "    </tr>\n",
       "    <tr>\n",
       "      <td>4</td>\n",
       "      <td>Javier</td>\n",
       "      <td>271.0</td>\n",
       "    </tr>\n",
       "    <tr>\n",
       "      <td>...</td>\n",
       "      <td>...</td>\n",
       "      <td>...</td>\n",
       "    </tr>\n",
       "    <tr>\n",
       "      <td>7170</td>\n",
       "      <td>Miguel Á</td>\n",
       "      <td>1.0</td>\n",
       "    </tr>\n",
       "    <tr>\n",
       "      <td>7171</td>\n",
       "      <td>A.</td>\n",
       "      <td>1.0</td>\n",
       "    </tr>\n",
       "    <tr>\n",
       "      <td>7172</td>\n",
       "      <td>Noemi García</td>\n",
       "      <td>1.0</td>\n",
       "    </tr>\n",
       "    <tr>\n",
       "      <td>7173</td>\n",
       "      <td>Victor</td>\n",
       "      <td>1.0</td>\n",
       "    </tr>\n",
       "    <tr>\n",
       "      <td>7174</td>\n",
       "      <td>Juan</td>\n",
       "      <td>2.0</td>\n",
       "    </tr>\n",
       "  </tbody>\n",
       "</table>\n",
       "<p>7175 rows × 2 columns</p>\n",
       "</div>"
      ],
      "text/plain": [
       "              name  publications\n",
       "0     José Antonio         343.0\n",
       "1           Javier         301.0\n",
       "2           Manuel         285.0\n",
       "3       Marcela G.         280.0\n",
       "4           Javier         271.0\n",
       "...            ...           ...\n",
       "7170      Miguel Á           1.0\n",
       "7171            A.           1.0\n",
       "7172  Noemi García           1.0\n",
       "7173        Victor           1.0\n",
       "7174          Juan           2.0\n",
       "\n",
       "[7175 rows x 2 columns]"
      ]
     },
     "execution_count": 50,
     "metadata": {},
     "output_type": "execute_result"
    }
   ],
   "source": [
    "# Get multiple columns (this returns a dataframe with the selected columns)\n",
    "researchers[[\"name\",\"publications\"]]"
   ]
  },
  {
   "cell_type": "code",
   "execution_count": 51,
   "metadata": {},
   "outputs": [
    {
     "data": {
      "text/plain": [
       "array(['José Antonio', 'Javier', 'Manuel', ..., 'María D.', 'E. Nogueira',\n",
       "       'Noemi García'], dtype=object)"
      ]
     },
     "execution_count": 51,
     "metadata": {},
     "output_type": "execute_result"
    }
   ],
   "source": [
    "# Get unique values from a column\n",
    "researchers[\"name\"].unique()"
   ]
  },
  {
   "cell_type": "markdown",
   "metadata": {
    "collapsed": true
   },
   "source": [
    "### Describe data\n",
    "When we evaluate a dataframe, pandas will show a table with it contents. If there are many rows, it only shows the beginning and the end."
   ]
  },
  {
   "cell_type": "code",
   "execution_count": 52,
   "metadata": {},
   "outputs": [
    {
     "data": {
      "text/html": [
       "<div>\n",
       "<style scoped>\n",
       "    .dataframe tbody tr th:only-of-type {\n",
       "        vertical-align: middle;\n",
       "    }\n",
       "\n",
       "    .dataframe tbody tr th {\n",
       "        vertical-align: top;\n",
       "    }\n",
       "\n",
       "    .dataframe thead th {\n",
       "        text-align: right;\n",
       "    }\n",
       "</style>\n",
       "<table border=\"1\" class=\"dataframe\">\n",
       "  <thead>\n",
       "    <tr style=\"text-align: right;\">\n",
       "      <th></th>\n",
       "      <th>Unnamed: 0</th>\n",
       "      <th>auth_id</th>\n",
       "      <th>name</th>\n",
       "      <th>last_name</th>\n",
       "      <th>citations</th>\n",
       "      <th>cited_by</th>\n",
       "      <th>publications</th>\n",
       "      <th>orcid</th>\n",
       "    </tr>\n",
       "  </thead>\n",
       "  <tbody>\n",
       "    <tr>\n",
       "      <td>0</td>\n",
       "      <td>0</td>\n",
       "      <td>7005227142</td>\n",
       "      <td>José Antonio</td>\n",
       "      <td>Cobos</td>\n",
       "      <td>5267.0</td>\n",
       "      <td>3940</td>\n",
       "      <td>343.0</td>\n",
       "      <td>NaN</td>\n",
       "    </tr>\n",
       "    <tr>\n",
       "      <td>1</td>\n",
       "      <td>1</td>\n",
       "      <td>55708653400</td>\n",
       "      <td>Javier</td>\n",
       "      <td>LLorca</td>\n",
       "      <td>9830.0</td>\n",
       "      <td>6350</td>\n",
       "      <td>301.0</td>\n",
       "      <td>NaN</td>\n",
       "    </tr>\n",
       "    <tr>\n",
       "      <td>2</td>\n",
       "      <td>2</td>\n",
       "      <td>7007057622</td>\n",
       "      <td>Manuel</td>\n",
       "      <td>Elices</td>\n",
       "      <td>8251.0</td>\n",
       "      <td>4563</td>\n",
       "      <td>285.0</td>\n",
       "      <td>NaN</td>\n",
       "    </tr>\n",
       "    <tr>\n",
       "      <td>3</td>\n",
       "      <td>3</td>\n",
       "      <td>6701646524</td>\n",
       "      <td>Marcela G.</td>\n",
       "      <td>González-Gross</td>\n",
       "      <td>7167.0</td>\n",
       "      <td>5244</td>\n",
       "      <td>280.0</td>\n",
       "      <td>NaN</td>\n",
       "    </tr>\n",
       "    <tr>\n",
       "      <td>4</td>\n",
       "      <td>4</td>\n",
       "      <td>8899577600</td>\n",
       "      <td>Javier</td>\n",
       "      <td>Bajo</td>\n",
       "      <td>2213.0</td>\n",
       "      <td>1376</td>\n",
       "      <td>271.0</td>\n",
       "      <td>0000-0003-0824-4133</td>\n",
       "    </tr>\n",
       "    <tr>\n",
       "      <td>...</td>\n",
       "      <td>...</td>\n",
       "      <td>...</td>\n",
       "      <td>...</td>\n",
       "      <td>...</td>\n",
       "      <td>...</td>\n",
       "      <td>...</td>\n",
       "      <td>...</td>\n",
       "      <td>...</td>\n",
       "    </tr>\n",
       "    <tr>\n",
       "      <td>7170</td>\n",
       "      <td>7170</td>\n",
       "      <td>57204035481</td>\n",
       "      <td>Miguel Á</td>\n",
       "      <td>Ruano Hernansanz</td>\n",
       "      <td>0.0</td>\n",
       "      <td>0</td>\n",
       "      <td>1.0</td>\n",
       "      <td>NaN</td>\n",
       "    </tr>\n",
       "    <tr>\n",
       "      <td>7171</td>\n",
       "      <td>7171</td>\n",
       "      <td>57201215949</td>\n",
       "      <td>A.</td>\n",
       "      <td>Toribio</td>\n",
       "      <td>8.0</td>\n",
       "      <td>8</td>\n",
       "      <td>1.0</td>\n",
       "      <td>NaN</td>\n",
       "    </tr>\n",
       "    <tr>\n",
       "      <td>7172</td>\n",
       "      <td>7172</td>\n",
       "      <td>57190576447</td>\n",
       "      <td>Noemi García</td>\n",
       "      <td>Arjona</td>\n",
       "      <td>1.0</td>\n",
       "      <td>1</td>\n",
       "      <td>1.0</td>\n",
       "      <td>NaN</td>\n",
       "    </tr>\n",
       "    <tr>\n",
       "      <td>7173</td>\n",
       "      <td>7173</td>\n",
       "      <td>57202283310</td>\n",
       "      <td>Victor</td>\n",
       "      <td>Aparicio Mequiades</td>\n",
       "      <td>1.0</td>\n",
       "      <td>1</td>\n",
       "      <td>1.0</td>\n",
       "      <td>NaN</td>\n",
       "    </tr>\n",
       "    <tr>\n",
       "      <td>7174</td>\n",
       "      <td>7174</td>\n",
       "      <td>38061551300</td>\n",
       "      <td>Juan</td>\n",
       "      <td>Mateos</td>\n",
       "      <td>17.0</td>\n",
       "      <td>17</td>\n",
       "      <td>2.0</td>\n",
       "      <td>NaN</td>\n",
       "    </tr>\n",
       "  </tbody>\n",
       "</table>\n",
       "<p>7175 rows × 8 columns</p>\n",
       "</div>"
      ],
      "text/plain": [
       "      Unnamed: 0      auth_id          name           last_name  citations  \\\n",
       "0              0   7005227142  José Antonio               Cobos     5267.0   \n",
       "1              1  55708653400        Javier              LLorca     9830.0   \n",
       "2              2   7007057622        Manuel              Elices     8251.0   \n",
       "3              3   6701646524    Marcela G.      González-Gross     7167.0   \n",
       "4              4   8899577600        Javier                Bajo     2213.0   \n",
       "...          ...          ...           ...                 ...        ...   \n",
       "7170        7170  57204035481      Miguel Á    Ruano Hernansanz        0.0   \n",
       "7171        7171  57201215949            A.             Toribio        8.0   \n",
       "7172        7172  57190576447  Noemi García              Arjona        1.0   \n",
       "7173        7173  57202283310        Victor  Aparicio Mequiades        1.0   \n",
       "7174        7174  38061551300          Juan              Mateos       17.0   \n",
       "\n",
       "      cited_by  publications                orcid  \n",
       "0         3940         343.0                  NaN  \n",
       "1         6350         301.0                  NaN  \n",
       "2         4563         285.0                  NaN  \n",
       "3         5244         280.0                  NaN  \n",
       "4         1376         271.0  0000-0003-0824-4133  \n",
       "...        ...           ...                  ...  \n",
       "7170         0           1.0                  NaN  \n",
       "7171         8           1.0                  NaN  \n",
       "7172         1           1.0                  NaN  \n",
       "7173         1           1.0                  NaN  \n",
       "7174        17           2.0                  NaN  \n",
       "\n",
       "[7175 rows x 8 columns]"
      ]
     },
     "execution_count": 52,
     "metadata": {},
     "output_type": "execute_result"
    }
   ],
   "source": [
    "researchers"
   ]
  },
  {
   "cell_type": "markdown",
   "metadata": {},
   "source": [
    "We can use the method describe to know more about one column or the whole dataset. If the column has numerical values it will calculate some statistical measures like the average, the count, max or min. In the other hand, if the values are strings it will count the unique values and return the most repeated one."
   ]
  },
  {
   "cell_type": "code",
   "execution_count": 53,
   "metadata": {},
   "outputs": [
    {
     "data": {
      "text/html": [
       "<div>\n",
       "<style scoped>\n",
       "    .dataframe tbody tr th:only-of-type {\n",
       "        vertical-align: middle;\n",
       "    }\n",
       "\n",
       "    .dataframe tbody tr th {\n",
       "        vertical-align: top;\n",
       "    }\n",
       "\n",
       "    .dataframe thead th {\n",
       "        text-align: right;\n",
       "    }\n",
       "</style>\n",
       "<table border=\"1\" class=\"dataframe\">\n",
       "  <thead>\n",
       "    <tr style=\"text-align: right;\">\n",
       "      <th></th>\n",
       "      <th>cited_count</th>\n",
       "    </tr>\n",
       "  </thead>\n",
       "  <tbody>\n",
       "    <tr>\n",
       "      <td>count</td>\n",
       "      <td>35955.000000</td>\n",
       "    </tr>\n",
       "    <tr>\n",
       "      <td>mean</td>\n",
       "      <td>13.008260</td>\n",
       "    </tr>\n",
       "    <tr>\n",
       "      <td>std</td>\n",
       "      <td>38.461635</td>\n",
       "    </tr>\n",
       "    <tr>\n",
       "      <td>min</td>\n",
       "      <td>0.000000</td>\n",
       "    </tr>\n",
       "    <tr>\n",
       "      <td>25%</td>\n",
       "      <td>1.000000</td>\n",
       "    </tr>\n",
       "    <tr>\n",
       "      <td>50%</td>\n",
       "      <td>4.000000</td>\n",
       "    </tr>\n",
       "    <tr>\n",
       "      <td>75%</td>\n",
       "      <td>13.000000</td>\n",
       "    </tr>\n",
       "    <tr>\n",
       "      <td>max</td>\n",
       "      <td>2406.000000</td>\n",
       "    </tr>\n",
       "  </tbody>\n",
       "</table>\n",
       "</div>"
      ],
      "text/plain": [
       "        cited_count\n",
       "count  35955.000000\n",
       "mean      13.008260\n",
       "std       38.461635\n",
       "min        0.000000\n",
       "25%        1.000000\n",
       "50%        4.000000\n",
       "75%       13.000000\n",
       "max     2406.000000"
      ]
     },
     "execution_count": 53,
     "metadata": {},
     "output_type": "execute_result"
    }
   ],
   "source": [
    "publications.describe()"
   ]
  },
  {
   "cell_type": "code",
   "execution_count": 54,
   "metadata": {},
   "outputs": [
    {
     "data": {
      "text/plain": [
       "count       7170\n",
       "unique      2828\n",
       "top       Javier\n",
       "freq         131\n",
       "Name: name, dtype: object"
      ]
     },
     "execution_count": 54,
     "metadata": {},
     "output_type": "execute_result"
    }
   ],
   "source": [
    "researchers[\"name\"].describe()"
   ]
  },
  {
   "cell_type": "code",
   "execution_count": 55,
   "metadata": {},
   "outputs": [
    {
     "data": {
      "text/plain": [
       "Unnamed: 0        int64\n",
       "auth_id           int64\n",
       "name             object\n",
       "last_name        object\n",
       "citations       float64\n",
       "cited_by          int64\n",
       "publications    float64\n",
       "orcid            object\n",
       "dtype: object"
      ]
     },
     "execution_count": 55,
     "metadata": {},
     "output_type": "execute_result"
    }
   ],
   "source": [
    "# List columns and their types\n",
    "researchers.dtypes"
   ]
  },
  {
   "cell_type": "markdown",
   "metadata": {},
   "source": [
    "### Searching data\n",
    "We will need to get the rows that matches some conditions, we will do that with the loc function"
   ]
  },
  {
   "cell_type": "code",
   "execution_count": 56,
   "metadata": {},
   "outputs": [
    {
     "data": {
      "text/html": [
       "<div>\n",
       "<style scoped>\n",
       "    .dataframe tbody tr th:only-of-type {\n",
       "        vertical-align: middle;\n",
       "    }\n",
       "\n",
       "    .dataframe tbody tr th {\n",
       "        vertical-align: top;\n",
       "    }\n",
       "\n",
       "    .dataframe thead th {\n",
       "        text-align: right;\n",
       "    }\n",
       "</style>\n",
       "<table border=\"1\" class=\"dataframe\">\n",
       "  <thead>\n",
       "    <tr style=\"text-align: right;\">\n",
       "      <th></th>\n",
       "      <th>Unnamed: 0</th>\n",
       "      <th>auth_id</th>\n",
       "      <th>name</th>\n",
       "      <th>last_name</th>\n",
       "      <th>citations</th>\n",
       "      <th>cited_by</th>\n",
       "      <th>publications</th>\n",
       "      <th>orcid</th>\n",
       "    </tr>\n",
       "  </thead>\n",
       "  <tbody>\n",
       "    <tr>\n",
       "      <td>3980</td>\n",
       "      <td>3980</td>\n",
       "      <td>57193265037</td>\n",
       "      <td>Ignacio</td>\n",
       "      <td>Corcuera-Platas</td>\n",
       "      <td>56.0</td>\n",
       "      <td>56</td>\n",
       "      <td>1.0</td>\n",
       "      <td>NaN</td>\n",
       "    </tr>\n",
       "    <tr>\n",
       "      <td>3981</td>\n",
       "      <td>3981</td>\n",
       "      <td>57061930600</td>\n",
       "      <td>Tomás Rodríguez</td>\n",
       "      <td>García</td>\n",
       "      <td>5.0</td>\n",
       "      <td>5</td>\n",
       "      <td>1.0</td>\n",
       "      <td>NaN</td>\n",
       "    </tr>\n",
       "    <tr>\n",
       "      <td>3982</td>\n",
       "      <td>3982</td>\n",
       "      <td>56835775700</td>\n",
       "      <td>Ignacio García</td>\n",
       "      <td>Gosálbez</td>\n",
       "      <td>8.0</td>\n",
       "      <td>8</td>\n",
       "      <td>1.0</td>\n",
       "      <td>NaN</td>\n",
       "    </tr>\n",
       "    <tr>\n",
       "      <td>3983</td>\n",
       "      <td>3983</td>\n",
       "      <td>57195472349</td>\n",
       "      <td>Sara</td>\n",
       "      <td>García-Figuera</td>\n",
       "      <td>5.0</td>\n",
       "      <td>5</td>\n",
       "      <td>1.0</td>\n",
       "      <td>0000-0001-9471-8379</td>\n",
       "    </tr>\n",
       "    <tr>\n",
       "      <td>3984</td>\n",
       "      <td>3984</td>\n",
       "      <td>7005418651</td>\n",
       "      <td>J. C.</td>\n",
       "      <td>Arredondo</td>\n",
       "      <td>7.0</td>\n",
       "      <td>7</td>\n",
       "      <td>1.0</td>\n",
       "      <td>NaN</td>\n",
       "    </tr>\n",
       "    <tr>\n",
       "      <td>...</td>\n",
       "      <td>...</td>\n",
       "      <td>...</td>\n",
       "      <td>...</td>\n",
       "      <td>...</td>\n",
       "      <td>...</td>\n",
       "      <td>...</td>\n",
       "      <td>...</td>\n",
       "      <td>...</td>\n",
       "    </tr>\n",
       "    <tr>\n",
       "      <td>7169</td>\n",
       "      <td>7169</td>\n",
       "      <td>57195472523</td>\n",
       "      <td>María</td>\n",
       "      <td>Del Mar Gamo Salas</td>\n",
       "      <td>0.0</td>\n",
       "      <td>0</td>\n",
       "      <td>1.0</td>\n",
       "      <td>NaN</td>\n",
       "    </tr>\n",
       "    <tr>\n",
       "      <td>7170</td>\n",
       "      <td>7170</td>\n",
       "      <td>57204035481</td>\n",
       "      <td>Miguel Á</td>\n",
       "      <td>Ruano Hernansanz</td>\n",
       "      <td>0.0</td>\n",
       "      <td>0</td>\n",
       "      <td>1.0</td>\n",
       "      <td>NaN</td>\n",
       "    </tr>\n",
       "    <tr>\n",
       "      <td>7171</td>\n",
       "      <td>7171</td>\n",
       "      <td>57201215949</td>\n",
       "      <td>A.</td>\n",
       "      <td>Toribio</td>\n",
       "      <td>8.0</td>\n",
       "      <td>8</td>\n",
       "      <td>1.0</td>\n",
       "      <td>NaN</td>\n",
       "    </tr>\n",
       "    <tr>\n",
       "      <td>7172</td>\n",
       "      <td>7172</td>\n",
       "      <td>57190576447</td>\n",
       "      <td>Noemi García</td>\n",
       "      <td>Arjona</td>\n",
       "      <td>1.0</td>\n",
       "      <td>1</td>\n",
       "      <td>1.0</td>\n",
       "      <td>NaN</td>\n",
       "    </tr>\n",
       "    <tr>\n",
       "      <td>7173</td>\n",
       "      <td>7173</td>\n",
       "      <td>57202283310</td>\n",
       "      <td>Victor</td>\n",
       "      <td>Aparicio Mequiades</td>\n",
       "      <td>1.0</td>\n",
       "      <td>1</td>\n",
       "      <td>1.0</td>\n",
       "      <td>NaN</td>\n",
       "    </tr>\n",
       "  </tbody>\n",
       "</table>\n",
       "<p>2707 rows × 8 columns</p>\n",
       "</div>"
      ],
      "text/plain": [
       "      Unnamed: 0      auth_id             name           last_name  citations  \\\n",
       "3980        3980  57193265037          Ignacio     Corcuera-Platas       56.0   \n",
       "3981        3981  57061930600  Tomás Rodríguez              García        5.0   \n",
       "3982        3982  56835775700   Ignacio García            Gosálbez        8.0   \n",
       "3983        3983  57195472349             Sara      García-Figuera        5.0   \n",
       "3984        3984   7005418651            J. C.           Arredondo        7.0   \n",
       "...          ...          ...              ...                 ...        ...   \n",
       "7169        7169  57195472523            María  Del Mar Gamo Salas        0.0   \n",
       "7170        7170  57204035481         Miguel Á    Ruano Hernansanz        0.0   \n",
       "7171        7171  57201215949               A.             Toribio        8.0   \n",
       "7172        7172  57190576447     Noemi García              Arjona        1.0   \n",
       "7173        7173  57202283310           Victor  Aparicio Mequiades        1.0   \n",
       "\n",
       "      cited_by  publications                orcid  \n",
       "3980        56           1.0                  NaN  \n",
       "3981         5           1.0                  NaN  \n",
       "3982         8           1.0                  NaN  \n",
       "3983         5           1.0  0000-0001-9471-8379  \n",
       "3984         7           1.0                  NaN  \n",
       "...        ...           ...                  ...  \n",
       "7169         0           1.0                  NaN  \n",
       "7170         0           1.0                  NaN  \n",
       "7171         8           1.0                  NaN  \n",
       "7172         1           1.0                  NaN  \n",
       "7173         1           1.0                  NaN  \n",
       "\n",
       "[2707 rows x 8 columns]"
      ]
     },
     "execution_count": 56,
     "metadata": {},
     "output_type": "execute_result"
    }
   ],
   "source": [
    "# Searching all researchers with less than 2 publications\n",
    "researchers.loc[researchers[\"publications\"]<2]"
   ]
  },
  {
   "cell_type": "code",
   "execution_count": 57,
   "metadata": {},
   "outputs": [
    {
     "data": {
      "text/html": [
       "<div>\n",
       "<style scoped>\n",
       "    .dataframe tbody tr th:only-of-type {\n",
       "        vertical-align: middle;\n",
       "    }\n",
       "\n",
       "    .dataframe tbody tr th {\n",
       "        vertical-align: top;\n",
       "    }\n",
       "\n",
       "    .dataframe thead th {\n",
       "        text-align: right;\n",
       "    }\n",
       "</style>\n",
       "<table border=\"1\" class=\"dataframe\">\n",
       "  <thead>\n",
       "    <tr style=\"text-align: right;\">\n",
       "      <th></th>\n",
       "      <th>Unnamed: 0</th>\n",
       "      <th>auth_id</th>\n",
       "      <th>name</th>\n",
       "      <th>last_name</th>\n",
       "      <th>citations</th>\n",
       "      <th>cited_by</th>\n",
       "      <th>publications</th>\n",
       "      <th>orcid</th>\n",
       "    </tr>\n",
       "  </thead>\n",
       "  <tbody>\n",
       "    <tr>\n",
       "      <td>47</td>\n",
       "      <td>47</td>\n",
       "      <td>6602242147</td>\n",
       "      <td>Ernestina</td>\n",
       "      <td>Menasalvas-Ruiz</td>\n",
       "      <td>782.0</td>\n",
       "      <td>685</td>\n",
       "      <td>121.0</td>\n",
       "      <td>0000-0002-5615-6798</td>\n",
       "    </tr>\n",
       "    <tr>\n",
       "      <td>55</td>\n",
       "      <td>55</td>\n",
       "      <td>9271886300</td>\n",
       "      <td>Mariano</td>\n",
       "      <td>Ruiz</td>\n",
       "      <td>588.0</td>\n",
       "      <td>411</td>\n",
       "      <td>112.0</td>\n",
       "      <td>0000-0002-1337-0110</td>\n",
       "    </tr>\n",
       "    <tr>\n",
       "      <td>142</td>\n",
       "      <td>142</td>\n",
       "      <td>56182360700</td>\n",
       "      <td>Margarita</td>\n",
       "      <td>Ruiz-Altisent</td>\n",
       "      <td>1581.0</td>\n",
       "      <td>1157</td>\n",
       "      <td>68.0</td>\n",
       "      <td>NaN</td>\n",
       "    </tr>\n",
       "    <tr>\n",
       "      <td>202</td>\n",
       "      <td>202</td>\n",
       "      <td>11439791100</td>\n",
       "      <td>Jesús</td>\n",
       "      <td>Ruiz-Hervías</td>\n",
       "      <td>411.0</td>\n",
       "      <td>276</td>\n",
       "      <td>58.0</td>\n",
       "      <td>NaN</td>\n",
       "    </tr>\n",
       "    <tr>\n",
       "      <td>327</td>\n",
       "      <td>327</td>\n",
       "      <td>15922138800</td>\n",
       "      <td>Sonia</td>\n",
       "      <td>Condés-Ruiz</td>\n",
       "      <td>830.0</td>\n",
       "      <td>688</td>\n",
       "      <td>42.0</td>\n",
       "      <td>0000-0002-4438-8305</td>\n",
       "    </tr>\n",
       "    <tr>\n",
       "      <td>...</td>\n",
       "      <td>...</td>\n",
       "      <td>...</td>\n",
       "      <td>...</td>\n",
       "      <td>...</td>\n",
       "      <td>...</td>\n",
       "      <td>...</td>\n",
       "      <td>...</td>\n",
       "      <td>...</td>\n",
       "    </tr>\n",
       "    <tr>\n",
       "      <td>6969</td>\n",
       "      <td>6969</td>\n",
       "      <td>7202458748</td>\n",
       "      <td>César Pérez</td>\n",
       "      <td>Ruiz</td>\n",
       "      <td>0.0</td>\n",
       "      <td>0</td>\n",
       "      <td>1.0</td>\n",
       "      <td>NaN</td>\n",
       "    </tr>\n",
       "    <tr>\n",
       "      <td>6994</td>\n",
       "      <td>6994</td>\n",
       "      <td>57204595760</td>\n",
       "      <td>C. Ardanaz</td>\n",
       "      <td>Ruiz</td>\n",
       "      <td>0.0</td>\n",
       "      <td>0</td>\n",
       "      <td>1.0</td>\n",
       "      <td>NaN</td>\n",
       "    </tr>\n",
       "    <tr>\n",
       "      <td>7053</td>\n",
       "      <td>7053</td>\n",
       "      <td>57202300407</td>\n",
       "      <td>Adolfo García</td>\n",
       "      <td>Ruiz-Espiga</td>\n",
       "      <td>0.0</td>\n",
       "      <td>0</td>\n",
       "      <td>1.0</td>\n",
       "      <td>NaN</td>\n",
       "    </tr>\n",
       "    <tr>\n",
       "      <td>7072</td>\n",
       "      <td>7072</td>\n",
       "      <td>56135829200</td>\n",
       "      <td>Rogelio</td>\n",
       "      <td>Ruiz</td>\n",
       "      <td>9.0</td>\n",
       "      <td>9</td>\n",
       "      <td>1.0</td>\n",
       "      <td>NaN</td>\n",
       "    </tr>\n",
       "    <tr>\n",
       "      <td>7114</td>\n",
       "      <td>7114</td>\n",
       "      <td>57201980165</td>\n",
       "      <td>Jesús Juan</td>\n",
       "      <td>Ruiz</td>\n",
       "      <td>1.0</td>\n",
       "      <td>1</td>\n",
       "      <td>1.0</td>\n",
       "      <td>NaN</td>\n",
       "    </tr>\n",
       "  </tbody>\n",
       "</table>\n",
       "<p>73 rows × 8 columns</p>\n",
       "</div>"
      ],
      "text/plain": [
       "      Unnamed: 0      auth_id           name        last_name  citations  \\\n",
       "47            47   6602242147      Ernestina  Menasalvas-Ruiz      782.0   \n",
       "55            55   9271886300        Mariano             Ruiz      588.0   \n",
       "142          142  56182360700      Margarita    Ruiz-Altisent     1581.0   \n",
       "202          202  11439791100          Jesús     Ruiz-Hervías      411.0   \n",
       "327          327  15922138800          Sonia      Condés-Ruiz      830.0   \n",
       "...          ...          ...            ...              ...        ...   \n",
       "6969        6969   7202458748    César Pérez             Ruiz        0.0   \n",
       "6994        6994  57204595760     C. Ardanaz             Ruiz        0.0   \n",
       "7053        7053  57202300407  Adolfo García      Ruiz-Espiga        0.0   \n",
       "7072        7072  56135829200        Rogelio             Ruiz        9.0   \n",
       "7114        7114  57201980165     Jesús Juan             Ruiz        1.0   \n",
       "\n",
       "      cited_by  publications                orcid  \n",
       "47         685         121.0  0000-0002-5615-6798  \n",
       "55         411         112.0  0000-0002-1337-0110  \n",
       "142       1157          68.0                  NaN  \n",
       "202        276          58.0                  NaN  \n",
       "327        688          42.0  0000-0002-4438-8305  \n",
       "...        ...           ...                  ...  \n",
       "6969         0           1.0                  NaN  \n",
       "6994         0           1.0                  NaN  \n",
       "7053         0           1.0                  NaN  \n",
       "7072         9           1.0                  NaN  \n",
       "7114         1           1.0                  NaN  \n",
       "\n",
       "[73 rows x 8 columns]"
      ]
     },
     "execution_count": 57,
     "metadata": {},
     "output_type": "execute_result"
    }
   ],
   "source": [
    "# Searching for a researcher whom name contains the string 'Ruiz'\n",
    "researchers.loc[researchers[\"last_name\"].str.contains(\"Ruiz\")]"
   ]
  },
  {
   "cell_type": "markdown",
   "metadata": {},
   "source": [
    "### Filtering\n",
    "Some times we will need to filer our data: discard empty values, keep only variables in a range, etc"
   ]
  },
  {
   "cell_type": "code",
   "execution_count": 58,
   "metadata": {},
   "outputs": [
    {
     "data": {
      "text/plain": [
       "0       False\n",
       "1       False\n",
       "2       False\n",
       "3       False\n",
       "4       False\n",
       "        ...  \n",
       "7170     True\n",
       "7171     True\n",
       "7172     True\n",
       "7173     True\n",
       "7174    False\n",
       "Name: publications, Length: 7175, dtype: bool"
      ]
     },
     "execution_count": 58,
     "metadata": {},
     "output_type": "execute_result"
    }
   ],
   "source": [
    "# We can perform boolean operations with columns that returns a column of boolean values \n",
    "researchers[\"publications\"]<2"
   ]
  },
  {
   "cell_type": "code",
   "execution_count": 59,
   "metadata": {},
   "outputs": [],
   "source": [
    "# We will use those columns to filter our data\n",
    "researchers_filtered = researchers[researchers[\"publications\"]<2]"
   ]
  },
  {
   "cell_type": "code",
   "execution_count": 60,
   "metadata": {},
   "outputs": [
    {
     "data": {
      "text/html": [
       "<div>\n",
       "<style scoped>\n",
       "    .dataframe tbody tr th:only-of-type {\n",
       "        vertical-align: middle;\n",
       "    }\n",
       "\n",
       "    .dataframe tbody tr th {\n",
       "        vertical-align: top;\n",
       "    }\n",
       "\n",
       "    .dataframe thead th {\n",
       "        text-align: right;\n",
       "    }\n",
       "</style>\n",
       "<table border=\"1\" class=\"dataframe\">\n",
       "  <thead>\n",
       "    <tr style=\"text-align: right;\">\n",
       "      <th></th>\n",
       "      <th>Unnamed: 0</th>\n",
       "      <th>auth_id</th>\n",
       "      <th>name</th>\n",
       "      <th>last_name</th>\n",
       "      <th>citations</th>\n",
       "      <th>cited_by</th>\n",
       "      <th>publications</th>\n",
       "      <th>orcid</th>\n",
       "    </tr>\n",
       "  </thead>\n",
       "  <tbody>\n",
       "    <tr>\n",
       "      <td>7065</td>\n",
       "      <td>7065</td>\n",
       "      <td>57189601404</td>\n",
       "      <td>Antonio</td>\n",
       "      <td>Arcos</td>\n",
       "      <td>0.0</td>\n",
       "      <td>0</td>\n",
       "      <td>1.0</td>\n",
       "      <td>NaN</td>\n",
       "    </tr>\n",
       "  </tbody>\n",
       "</table>\n",
       "</div>"
      ],
      "text/plain": [
       "      Unnamed: 0      auth_id     name last_name  citations  cited_by  \\\n",
       "7065        7065  57189601404  Antonio     Arcos        0.0         0   \n",
       "\n",
       "      publications orcid  \n",
       "7065           1.0   NaN  "
      ]
     },
     "execution_count": 60,
     "metadata": {},
     "output_type": "execute_result"
    }
   ],
   "source": [
    "# To filter by the contents of a strings column\n",
    "researchers[researchers.last_name.str.contains(\"Arcos\")]"
   ]
  },
  {
   "cell_type": "markdown",
   "metadata": {},
   "source": [
    "### Modifing data in a column"
   ]
  },
  {
   "cell_type": "code",
   "execution_count": 61,
   "metadata": {},
   "outputs": [
    {
     "name": "stdout",
     "output_type": "stream",
     "text": [
      "Original\n",
      "0       343.0\n",
      "1       301.0\n",
      "2       285.0\n",
      "3       280.0\n",
      "4       271.0\n",
      "        ...  \n",
      "7170      1.0\n",
      "7171      1.0\n",
      "7172      1.0\n",
      "7173      1.0\n",
      "7174      2.0\n",
      "Name: publications, Length: 7175, dtype: float64\n",
      "Modified\n",
      "0       345.0\n",
      "1       303.0\n",
      "2       287.0\n",
      "3       282.0\n",
      "4       273.0\n",
      "        ...  \n",
      "7170      3.0\n",
      "7171      3.0\n",
      "7172      3.0\n",
      "7173      3.0\n",
      "7174      4.0\n",
      "Name: publications, Length: 7175, dtype: float64\n"
     ]
    }
   ],
   "source": [
    "# We can apply a method to each value in a column\n",
    "def sum_two(x):\n",
    "    return x+2\n",
    "print(\"Original\")\n",
    "print(researchers[\"publications\"])\n",
    "print(\"Modified\")\n",
    "# Apply and the name of the method we want to execute over each value\n",
    "print(researchers[\"publications\"].apply(sum_two))"
   ]
  },
  {
   "cell_type": "code",
   "execution_count": 62,
   "metadata": {},
   "outputs": [
    {
     "name": "stdout",
     "output_type": "stream",
     "text": [
      "0       345.0\n",
      "1       303.0\n",
      "2       287.0\n",
      "3       282.0\n",
      "4       273.0\n",
      "        ...  \n",
      "7170      3.0\n",
      "7171      3.0\n",
      "7172      3.0\n",
      "7173      3.0\n",
      "7174      4.0\n",
      "Name: publications, Length: 7175, dtype: float64\n"
     ]
    }
   ],
   "source": [
    "# ADVANCED\n",
    "# We can do the same by using lambdas\n",
    "print(researchers[\"publications\"].apply(lambda x: x+2))"
   ]
  },
  {
   "cell_type": "markdown",
   "metadata": {},
   "source": [
    "### Creating new columns"
   ]
  },
  {
   "cell_type": "code",
   "execution_count": 63,
   "metadata": {},
   "outputs": [],
   "source": [
    "researchers[\"newDocumentCount\"] = researchers[\"publications\"].apply(sum_two)"
   ]
  },
  {
   "cell_type": "markdown",
   "metadata": {},
   "source": [
    "# Rename columns"
   ]
  },
  {
   "cell_type": "code",
   "execution_count": 64,
   "metadata": {},
   "outputs": [
    {
     "data": {
      "text/html": [
       "<div>\n",
       "<style scoped>\n",
       "    .dataframe tbody tr th:only-of-type {\n",
       "        vertical-align: middle;\n",
       "    }\n",
       "\n",
       "    .dataframe tbody tr th {\n",
       "        vertical-align: top;\n",
       "    }\n",
       "\n",
       "    .dataframe thead th {\n",
       "        text-align: right;\n",
       "    }\n",
       "</style>\n",
       "<table border=\"1\" class=\"dataframe\">\n",
       "  <thead>\n",
       "    <tr style=\"text-align: right;\">\n",
       "      <th></th>\n",
       "      <th>Unnamed: 0</th>\n",
       "      <th>auth_id</th>\n",
       "      <th>name</th>\n",
       "      <th>last_name</th>\n",
       "      <th>citations</th>\n",
       "      <th>cited_by</th>\n",
       "      <th>documents</th>\n",
       "      <th>orcid</th>\n",
       "      <th>newDocumentCount</th>\n",
       "    </tr>\n",
       "  </thead>\n",
       "  <tbody>\n",
       "    <tr>\n",
       "      <td>0</td>\n",
       "      <td>0</td>\n",
       "      <td>7005227142</td>\n",
       "      <td>José Antonio</td>\n",
       "      <td>Cobos</td>\n",
       "      <td>5267.0</td>\n",
       "      <td>3940</td>\n",
       "      <td>343.0</td>\n",
       "      <td>NaN</td>\n",
       "      <td>345.0</td>\n",
       "    </tr>\n",
       "    <tr>\n",
       "      <td>1</td>\n",
       "      <td>1</td>\n",
       "      <td>55708653400</td>\n",
       "      <td>Javier</td>\n",
       "      <td>LLorca</td>\n",
       "      <td>9830.0</td>\n",
       "      <td>6350</td>\n",
       "      <td>301.0</td>\n",
       "      <td>NaN</td>\n",
       "      <td>303.0</td>\n",
       "    </tr>\n",
       "    <tr>\n",
       "      <td>2</td>\n",
       "      <td>2</td>\n",
       "      <td>7007057622</td>\n",
       "      <td>Manuel</td>\n",
       "      <td>Elices</td>\n",
       "      <td>8251.0</td>\n",
       "      <td>4563</td>\n",
       "      <td>285.0</td>\n",
       "      <td>NaN</td>\n",
       "      <td>287.0</td>\n",
       "    </tr>\n",
       "    <tr>\n",
       "      <td>3</td>\n",
       "      <td>3</td>\n",
       "      <td>6701646524</td>\n",
       "      <td>Marcela G.</td>\n",
       "      <td>González-Gross</td>\n",
       "      <td>7167.0</td>\n",
       "      <td>5244</td>\n",
       "      <td>280.0</td>\n",
       "      <td>NaN</td>\n",
       "      <td>282.0</td>\n",
       "    </tr>\n",
       "    <tr>\n",
       "      <td>4</td>\n",
       "      <td>4</td>\n",
       "      <td>8899577600</td>\n",
       "      <td>Javier</td>\n",
       "      <td>Bajo</td>\n",
       "      <td>2213.0</td>\n",
       "      <td>1376</td>\n",
       "      <td>271.0</td>\n",
       "      <td>0000-0003-0824-4133</td>\n",
       "      <td>273.0</td>\n",
       "    </tr>\n",
       "    <tr>\n",
       "      <td>...</td>\n",
       "      <td>...</td>\n",
       "      <td>...</td>\n",
       "      <td>...</td>\n",
       "      <td>...</td>\n",
       "      <td>...</td>\n",
       "      <td>...</td>\n",
       "      <td>...</td>\n",
       "      <td>...</td>\n",
       "      <td>...</td>\n",
       "    </tr>\n",
       "    <tr>\n",
       "      <td>7170</td>\n",
       "      <td>7170</td>\n",
       "      <td>57204035481</td>\n",
       "      <td>Miguel Á</td>\n",
       "      <td>Ruano Hernansanz</td>\n",
       "      <td>0.0</td>\n",
       "      <td>0</td>\n",
       "      <td>1.0</td>\n",
       "      <td>NaN</td>\n",
       "      <td>3.0</td>\n",
       "    </tr>\n",
       "    <tr>\n",
       "      <td>7171</td>\n",
       "      <td>7171</td>\n",
       "      <td>57201215949</td>\n",
       "      <td>A.</td>\n",
       "      <td>Toribio</td>\n",
       "      <td>8.0</td>\n",
       "      <td>8</td>\n",
       "      <td>1.0</td>\n",
       "      <td>NaN</td>\n",
       "      <td>3.0</td>\n",
       "    </tr>\n",
       "    <tr>\n",
       "      <td>7172</td>\n",
       "      <td>7172</td>\n",
       "      <td>57190576447</td>\n",
       "      <td>Noemi García</td>\n",
       "      <td>Arjona</td>\n",
       "      <td>1.0</td>\n",
       "      <td>1</td>\n",
       "      <td>1.0</td>\n",
       "      <td>NaN</td>\n",
       "      <td>3.0</td>\n",
       "    </tr>\n",
       "    <tr>\n",
       "      <td>7173</td>\n",
       "      <td>7173</td>\n",
       "      <td>57202283310</td>\n",
       "      <td>Victor</td>\n",
       "      <td>Aparicio Mequiades</td>\n",
       "      <td>1.0</td>\n",
       "      <td>1</td>\n",
       "      <td>1.0</td>\n",
       "      <td>NaN</td>\n",
       "      <td>3.0</td>\n",
       "    </tr>\n",
       "    <tr>\n",
       "      <td>7174</td>\n",
       "      <td>7174</td>\n",
       "      <td>38061551300</td>\n",
       "      <td>Juan</td>\n",
       "      <td>Mateos</td>\n",
       "      <td>17.0</td>\n",
       "      <td>17</td>\n",
       "      <td>2.0</td>\n",
       "      <td>NaN</td>\n",
       "      <td>4.0</td>\n",
       "    </tr>\n",
       "  </tbody>\n",
       "</table>\n",
       "<p>7175 rows × 9 columns</p>\n",
       "</div>"
      ],
      "text/plain": [
       "      Unnamed: 0      auth_id          name           last_name  citations  \\\n",
       "0              0   7005227142  José Antonio               Cobos     5267.0   \n",
       "1              1  55708653400        Javier              LLorca     9830.0   \n",
       "2              2   7007057622        Manuel              Elices     8251.0   \n",
       "3              3   6701646524    Marcela G.      González-Gross     7167.0   \n",
       "4              4   8899577600        Javier                Bajo     2213.0   \n",
       "...          ...          ...           ...                 ...        ...   \n",
       "7170        7170  57204035481      Miguel Á    Ruano Hernansanz        0.0   \n",
       "7171        7171  57201215949            A.             Toribio        8.0   \n",
       "7172        7172  57190576447  Noemi García              Arjona        1.0   \n",
       "7173        7173  57202283310        Victor  Aparicio Mequiades        1.0   \n",
       "7174        7174  38061551300          Juan              Mateos       17.0   \n",
       "\n",
       "      cited_by  documents                orcid  newDocumentCount  \n",
       "0         3940      343.0                  NaN             345.0  \n",
       "1         6350      301.0                  NaN             303.0  \n",
       "2         4563      285.0                  NaN             287.0  \n",
       "3         5244      280.0                  NaN             282.0  \n",
       "4         1376      271.0  0000-0003-0824-4133             273.0  \n",
       "...        ...        ...                  ...               ...  \n",
       "7170         0        1.0                  NaN               3.0  \n",
       "7171         8        1.0                  NaN               3.0  \n",
       "7172         1        1.0                  NaN               3.0  \n",
       "7173         1        1.0                  NaN               3.0  \n",
       "7174        17        2.0                  NaN               4.0  \n",
       "\n",
       "[7175 rows x 9 columns]"
      ]
     },
     "execution_count": 64,
     "metadata": {},
     "output_type": "execute_result"
    }
   ],
   "source": [
    "# The parameter columns is a dictionary with the old names as keys and new names as values\n",
    "researchers.rename(columns={\"publications\":\"documents\"})"
   ]
  },
  {
   "cell_type": "markdown",
   "metadata": {
    "collapsed": true
   },
   "source": [
    "### Group by\n",
    "We can execute group by orders similar to SQL.\n",
    "\n",
    "http://pandas.pydata.org/pandas-docs/stable/groupby.html"
   ]
  },
  {
   "cell_type": "code",
   "execution_count": 65,
   "metadata": {},
   "outputs": [
    {
     "data": {
      "text/html": [
       "<div>\n",
       "<style scoped>\n",
       "    .dataframe tbody tr th:only-of-type {\n",
       "        vertical-align: middle;\n",
       "    }\n",
       "\n",
       "    .dataframe tbody tr th {\n",
       "        vertical-align: top;\n",
       "    }\n",
       "\n",
       "    .dataframe thead th {\n",
       "        text-align: right;\n",
       "    }\n",
       "</style>\n",
       "<table border=\"1\" class=\"dataframe\">\n",
       "  <thead>\n",
       "    <tr style=\"text-align: right;\">\n",
       "      <th></th>\n",
       "      <th>pages</th>\n",
       "      <th>authors</th>\n",
       "      <th>title</th>\n",
       "      <th>document_id</th>\n",
       "      <th>date</th>\n",
       "      <th>openaccess</th>\n",
       "      <th>cited_count</th>\n",
       "      <th>type</th>\n",
       "    </tr>\n",
       "    <tr>\n",
       "      <th>journal</th>\n",
       "      <th></th>\n",
       "      <th></th>\n",
       "      <th></th>\n",
       "      <th></th>\n",
       "      <th></th>\n",
       "      <th></th>\n",
       "      <th></th>\n",
       "      <th></th>\n",
       "    </tr>\n",
       "  </thead>\n",
       "  <tbody>\n",
       "    <tr>\n",
       "      <td>(Arid zone degradation around the Mediterranean. Papers from the international conference, Madrid, 25-27 May, 1987</td>\n",
       "      <td>0</td>\n",
       "      <td>1</td>\n",
       "      <td>1</td>\n",
       "      <td>1</td>\n",
       "      <td>1</td>\n",
       "      <td>1</td>\n",
       "      <td>1</td>\n",
       "      <td>1</td>\n",
       "    </tr>\n",
       "    <tr>\n",
       "      <td>10th AIAA Aviation Technology, Integration and Operations Conference 2010, ATIO 2010</td>\n",
       "      <td>0</td>\n",
       "      <td>1</td>\n",
       "      <td>1</td>\n",
       "      <td>1</td>\n",
       "      <td>1</td>\n",
       "      <td>1</td>\n",
       "      <td>1</td>\n",
       "      <td>1</td>\n",
       "    </tr>\n",
       "    <tr>\n",
       "      <td>10th Conference of Telecommunication, Media and Internet Techno-Economics, CTTE 2011</td>\n",
       "      <td>0</td>\n",
       "      <td>1</td>\n",
       "      <td>1</td>\n",
       "      <td>1</td>\n",
       "      <td>1</td>\n",
       "      <td>1</td>\n",
       "      <td>1</td>\n",
       "      <td>1</td>\n",
       "    </tr>\n",
       "    <tr>\n",
       "      <td>10th European Conference on Turbomachinery Fluid Dynamics and Thermodynamics, ETC 2013</td>\n",
       "      <td>2</td>\n",
       "      <td>2</td>\n",
       "      <td>2</td>\n",
       "      <td>2</td>\n",
       "      <td>2</td>\n",
       "      <td>2</td>\n",
       "      <td>2</td>\n",
       "      <td>2</td>\n",
       "    </tr>\n",
       "    <tr>\n",
       "      <td>10th ICETE 2013; SIGMAP 2013 - 10th Int. Conf. on Signal Processing and Multimedia Applications and WINSYS 2013 - 10th Int. Conf. on Wireless Information Networks and Systems, Proc.</td>\n",
       "      <td>1</td>\n",
       "      <td>1</td>\n",
       "      <td>1</td>\n",
       "      <td>1</td>\n",
       "      <td>1</td>\n",
       "      <td>1</td>\n",
       "      <td>1</td>\n",
       "      <td>1</td>\n",
       "    </tr>\n",
       "    <tr>\n",
       "      <td>...</td>\n",
       "      <td>...</td>\n",
       "      <td>...</td>\n",
       "      <td>...</td>\n",
       "      <td>...</td>\n",
       "      <td>...</td>\n",
       "      <td>...</td>\n",
       "      <td>...</td>\n",
       "      <td>...</td>\n",
       "    </tr>\n",
       "    <tr>\n",
       "      <td>iiWAS2010 - 12th International Conference on Information Integration and Web-Based Applications and Services</td>\n",
       "      <td>1</td>\n",
       "      <td>1</td>\n",
       "      <td>1</td>\n",
       "      <td>1</td>\n",
       "      <td>1</td>\n",
       "      <td>1</td>\n",
       "      <td>1</td>\n",
       "      <td>1</td>\n",
       "    </tr>\n",
       "    <tr>\n",
       "      <td>mBio</td>\n",
       "      <td>0</td>\n",
       "      <td>1</td>\n",
       "      <td>1</td>\n",
       "      <td>1</td>\n",
       "      <td>1</td>\n",
       "      <td>1</td>\n",
       "      <td>1</td>\n",
       "      <td>1</td>\n",
       "    </tr>\n",
       "    <tr>\n",
       "      <td>physica status solidi (a)</td>\n",
       "      <td>2</td>\n",
       "      <td>2</td>\n",
       "      <td>2</td>\n",
       "      <td>2</td>\n",
       "      <td>2</td>\n",
       "      <td>2</td>\n",
       "      <td>2</td>\n",
       "      <td>2</td>\n",
       "    </tr>\n",
       "    <tr>\n",
       "      <td>physica status solidi (b)</td>\n",
       "      <td>1</td>\n",
       "      <td>1</td>\n",
       "      <td>1</td>\n",
       "      <td>1</td>\n",
       "      <td>1</td>\n",
       "      <td>1</td>\n",
       "      <td>1</td>\n",
       "      <td>1</td>\n",
       "    </tr>\n",
       "    <tr>\n",
       "      <td>v I</td>\n",
       "      <td>4</td>\n",
       "      <td>4</td>\n",
       "      <td>4</td>\n",
       "      <td>4</td>\n",
       "      <td>4</td>\n",
       "      <td>4</td>\n",
       "      <td>4</td>\n",
       "      <td>4</td>\n",
       "    </tr>\n",
       "  </tbody>\n",
       "</table>\n",
       "<p>7898 rows × 8 columns</p>\n",
       "</div>"
      ],
      "text/plain": [
       "                                                    pages  authors  title  \\\n",
       "journal                                                                     \n",
       "(Arid zone degradation around the Mediterranean...      0        1      1   \n",
       "10th AIAA Aviation Technology, Integration and ...      0        1      1   \n",
       "10th Conference of Telecommunication, Media and...      0        1      1   \n",
       "10th European Conference on Turbomachinery Flui...      2        2      2   \n",
       "10th ICETE 2013; SIGMAP 2013 - 10th Int. Conf. ...      1        1      1   \n",
       "...                                                   ...      ...    ...   \n",
       "iiWAS2010 - 12th International Conference on In...      1        1      1   \n",
       "mBio                                                    0        1      1   \n",
       "physica status solidi (a)                               2        2      2   \n",
       "physica status solidi (b)                               1        1      1   \n",
       "v I                                                     4        4      4   \n",
       "\n",
       "                                                    document_id  date  \\\n",
       "journal                                                                 \n",
       "(Arid zone degradation around the Mediterranean...            1     1   \n",
       "10th AIAA Aviation Technology, Integration and ...            1     1   \n",
       "10th Conference of Telecommunication, Media and...            1     1   \n",
       "10th European Conference on Turbomachinery Flui...            2     2   \n",
       "10th ICETE 2013; SIGMAP 2013 - 10th Int. Conf. ...            1     1   \n",
       "...                                                         ...   ...   \n",
       "iiWAS2010 - 12th International Conference on In...            1     1   \n",
       "mBio                                                          1     1   \n",
       "physica status solidi (a)                                     2     2   \n",
       "physica status solidi (b)                                     1     1   \n",
       "v I                                                           4     4   \n",
       "\n",
       "                                                    openaccess  cited_count  \\\n",
       "journal                                                                       \n",
       "(Arid zone degradation around the Mediterranean...           1            1   \n",
       "10th AIAA Aviation Technology, Integration and ...           1            1   \n",
       "10th Conference of Telecommunication, Media and...           1            1   \n",
       "10th European Conference on Turbomachinery Flui...           2            2   \n",
       "10th ICETE 2013; SIGMAP 2013 - 10th Int. Conf. ...           1            1   \n",
       "...                                                        ...          ...   \n",
       "iiWAS2010 - 12th International Conference on In...           1            1   \n",
       "mBio                                                         1            1   \n",
       "physica status solidi (a)                                    2            2   \n",
       "physica status solidi (b)                                    1            1   \n",
       "v I                                                          4            4   \n",
       "\n",
       "                                                    type  \n",
       "journal                                                   \n",
       "(Arid zone degradation around the Mediterranean...     1  \n",
       "10th AIAA Aviation Technology, Integration and ...     1  \n",
       "10th Conference of Telecommunication, Media and...     1  \n",
       "10th European Conference on Turbomachinery Flui...     2  \n",
       "10th ICETE 2013; SIGMAP 2013 - 10th Int. Conf. ...     1  \n",
       "...                                                  ...  \n",
       "iiWAS2010 - 12th International Conference on In...     1  \n",
       "mBio                                                   1  \n",
       "physica status solidi (a)                              2  \n",
       "physica status solidi (b)                              1  \n",
       "v I                                                    4  \n",
       "\n",
       "[7898 rows x 8 columns]"
      ]
     },
     "execution_count": 65,
     "metadata": {},
     "output_type": "execute_result"
    }
   ],
   "source": [
    "# Group by publication name and counting the number of values for each column\n",
    "publications.groupby(publications[\"journal\"]).count()\n",
    "# There are many predefined aggregating functions like: first,last, median, sum, avg, max, min, etc"
   ]
  },
  {
   "cell_type": "markdown",
   "metadata": {
    "collapsed": true
   },
   "source": [
    "### Join dataframes\n",
    "There are methods to perform joins of two or more dataframes, but these methods can be difficult to understand. In these workshops we are goint to perform only one merge, and the code to do it wil be provided.\n",
    "\n",
    "Just for curisosity the guide of all join types can be glanced thorugh: http://pandas.pydata.org/pandas-docs/stable/merging.html#merging-join"
   ]
  },
  {
   "cell_type": "code",
   "execution_count": 66,
   "metadata": {
    "scrolled": false
   },
   "outputs": [
    {
     "data": {
      "text/html": [
       "<div>\n",
       "<style scoped>\n",
       "    .dataframe tbody tr th:only-of-type {\n",
       "        vertical-align: middle;\n",
       "    }\n",
       "\n",
       "    .dataframe tbody tr th {\n",
       "        vertical-align: top;\n",
       "    }\n",
       "\n",
       "    .dataframe thead th {\n",
       "        text-align: right;\n",
       "    }\n",
       "</style>\n",
       "<table border=\"1\" class=\"dataframe\">\n",
       "  <thead>\n",
       "    <tr style=\"text-align: right;\">\n",
       "      <th></th>\n",
       "      <th>Unnamed: 0</th>\n",
       "      <th>auth_id</th>\n",
       "      <th>name</th>\n",
       "      <th>last_name</th>\n",
       "      <th>citations</th>\n",
       "      <th>cited_by</th>\n",
       "      <th>publications</th>\n",
       "      <th>orcid</th>\n",
       "      <th>newDocumentCount</th>\n",
       "      <th>pages</th>\n",
       "      <th>title</th>\n",
       "      <th>document_id</th>\n",
       "      <th>date</th>\n",
       "      <th>journal</th>\n",
       "      <th>openaccess</th>\n",
       "      <th>cited_count</th>\n",
       "      <th>type</th>\n",
       "    </tr>\n",
       "  </thead>\n",
       "  <tbody>\n",
       "    <tr>\n",
       "      <td>0</td>\n",
       "      <td>0</td>\n",
       "      <td>7005227142</td>\n",
       "      <td>José Antonio</td>\n",
       "      <td>Cobos</td>\n",
       "      <td>5267.0</td>\n",
       "      <td>3940</td>\n",
       "      <td>343.0</td>\n",
       "      <td>NaN</td>\n",
       "      <td>345.0</td>\n",
       "      <td>664-678</td>\n",
       "      <td>High-Efficiency High-Bandwidth Four-Quadrant F...</td>\n",
       "      <td>85058136304</td>\n",
       "      <td>2019-06-01</td>\n",
       "      <td>IEEE Journal of Emerging and Selected Topics i...</td>\n",
       "      <td>False</td>\n",
       "      <td>0.0</td>\n",
       "      <td>Article</td>\n",
       "    </tr>\n",
       "    <tr>\n",
       "      <td>1</td>\n",
       "      <td>0</td>\n",
       "      <td>7005227142</td>\n",
       "      <td>José Antonio</td>\n",
       "      <td>Cobos</td>\n",
       "      <td>5267.0</td>\n",
       "      <td>3940</td>\n",
       "      <td>343.0</td>\n",
       "      <td>NaN</td>\n",
       "      <td>345.0</td>\n",
       "      <td>6356-6363</td>\n",
       "      <td>Energy-Buffered Single-Phase Inverter Operatin...</td>\n",
       "      <td>85060314395</td>\n",
       "      <td>2018-12-03</td>\n",
       "      <td>2018 IEEE Energy Conversion Congress and Expos...</td>\n",
       "      <td>False</td>\n",
       "      <td>2.0</td>\n",
       "      <td>Conference Paper</td>\n",
       "    </tr>\n",
       "    <tr>\n",
       "      <td>2</td>\n",
       "      <td>0</td>\n",
       "      <td>7005227142</td>\n",
       "      <td>José Antonio</td>\n",
       "      <td>Cobos</td>\n",
       "      <td>5267.0</td>\n",
       "      <td>3940</td>\n",
       "      <td>343.0</td>\n",
       "      <td>NaN</td>\n",
       "      <td>345.0</td>\n",
       "      <td>1293-1300</td>\n",
       "      <td>ZVS transitions in Multi-Mode Single Stage Inv...</td>\n",
       "      <td>85060302761</td>\n",
       "      <td>2018-12-03</td>\n",
       "      <td>2018 IEEE Energy Conversion Congress and Expos...</td>\n",
       "      <td>False</td>\n",
       "      <td>1.0</td>\n",
       "      <td>Conference Paper</td>\n",
       "    </tr>\n",
       "    <tr>\n",
       "      <td>3</td>\n",
       "      <td>0</td>\n",
       "      <td>7005227142</td>\n",
       "      <td>José Antonio</td>\n",
       "      <td>Cobos</td>\n",
       "      <td>5267.0</td>\n",
       "      <td>3940</td>\n",
       "      <td>343.0</td>\n",
       "      <td>NaN</td>\n",
       "      <td>345.0</td>\n",
       "      <td>7375-7379</td>\n",
       "      <td>Equivalent Parameters of Round and Litz Wire C...</td>\n",
       "      <td>85060302746</td>\n",
       "      <td>2018-12-03</td>\n",
       "      <td>2018 IEEE Energy Conversion Congress and Expos...</td>\n",
       "      <td>False</td>\n",
       "      <td>0.0</td>\n",
       "      <td>Conference Paper</td>\n",
       "    </tr>\n",
       "    <tr>\n",
       "      <td>4</td>\n",
       "      <td>0</td>\n",
       "      <td>7005227142</td>\n",
       "      <td>José Antonio</td>\n",
       "      <td>Cobos</td>\n",
       "      <td>5267.0</td>\n",
       "      <td>3940</td>\n",
       "      <td>343.0</td>\n",
       "      <td>NaN</td>\n",
       "      <td>345.0</td>\n",
       "      <td>4934-4939</td>\n",
       "      <td>Digital Variable Frequency Control of a Single...</td>\n",
       "      <td>85060299891</td>\n",
       "      <td>2018-12-03</td>\n",
       "      <td>2018 IEEE Energy Conversion Congress and Expos...</td>\n",
       "      <td>False</td>\n",
       "      <td>1.0</td>\n",
       "      <td>Conference Paper</td>\n",
       "    </tr>\n",
       "    <tr>\n",
       "      <td>...</td>\n",
       "      <td>...</td>\n",
       "      <td>...</td>\n",
       "      <td>...</td>\n",
       "      <td>...</td>\n",
       "      <td>...</td>\n",
       "      <td>...</td>\n",
       "      <td>...</td>\n",
       "      <td>...</td>\n",
       "      <td>...</td>\n",
       "      <td>...</td>\n",
       "      <td>...</td>\n",
       "      <td>...</td>\n",
       "      <td>...</td>\n",
       "      <td>...</td>\n",
       "      <td>...</td>\n",
       "      <td>...</td>\n",
       "      <td>...</td>\n",
       "    </tr>\n",
       "    <tr>\n",
       "      <td>61228</td>\n",
       "      <td>7171</td>\n",
       "      <td>57201215949</td>\n",
       "      <td>A.</td>\n",
       "      <td>Toribio</td>\n",
       "      <td>8.0</td>\n",
       "      <td>8</td>\n",
       "      <td>1.0</td>\n",
       "      <td>NaN</td>\n",
       "      <td>3.0</td>\n",
       "      <td>119-125</td>\n",
       "      <td>Mechanical properties and adhesive behavior of...</td>\n",
       "      <td>85044000684</td>\n",
       "      <td>2018-08-01</td>\n",
       "      <td>International Journal of Adhesion and Adhesives</td>\n",
       "      <td>False</td>\n",
       "      <td>8.0</td>\n",
       "      <td>Article</td>\n",
       "    </tr>\n",
       "    <tr>\n",
       "      <td>61229</td>\n",
       "      <td>7172</td>\n",
       "      <td>57190576447</td>\n",
       "      <td>Noemi García</td>\n",
       "      <td>Arjona</td>\n",
       "      <td>1.0</td>\n",
       "      <td>1</td>\n",
       "      <td>1.0</td>\n",
       "      <td>NaN</td>\n",
       "      <td>3.0</td>\n",
       "      <td>104-120</td>\n",
       "      <td>Proposals for improving assessment systems in ...</td>\n",
       "      <td>84981263415</td>\n",
       "      <td>2016-01-01</td>\n",
       "      <td>Journal of Technology and Science Education</td>\n",
       "      <td>True</td>\n",
       "      <td>1.0</td>\n",
       "      <td>Article</td>\n",
       "    </tr>\n",
       "    <tr>\n",
       "      <td>61230</td>\n",
       "      <td>7173</td>\n",
       "      <td>57202283310</td>\n",
       "      <td>Victor</td>\n",
       "      <td>Aparicio Mequiades</td>\n",
       "      <td>1.0</td>\n",
       "      <td>1</td>\n",
       "      <td>1.0</td>\n",
       "      <td>NaN</td>\n",
       "      <td>3.0</td>\n",
       "      <td>4803-4813</td>\n",
       "      <td>Coherent Signal Processing for Traffic Flow Me...</td>\n",
       "      <td>85030762840</td>\n",
       "      <td>2018-06-15</td>\n",
       "      <td>IEEE Sensors Journal</td>\n",
       "      <td>False</td>\n",
       "      <td>1.0</td>\n",
       "      <td>Article</td>\n",
       "    </tr>\n",
       "    <tr>\n",
       "      <td>61231</td>\n",
       "      <td>7174</td>\n",
       "      <td>38061551300</td>\n",
       "      <td>Juan</td>\n",
       "      <td>Mateos</td>\n",
       "      <td>17.0</td>\n",
       "      <td>17</td>\n",
       "      <td>2.0</td>\n",
       "      <td>NaN</td>\n",
       "      <td>4.0</td>\n",
       "      <td>1853-1858</td>\n",
       "      <td>Accelerated life test of high luminosity AlGaI...</td>\n",
       "      <td>84866732161</td>\n",
       "      <td>2012-09-01</td>\n",
       "      <td>Microelectronics Reliability</td>\n",
       "      <td>False</td>\n",
       "      <td>13.0</td>\n",
       "      <td>Article</td>\n",
       "    </tr>\n",
       "    <tr>\n",
       "      <td>61232</td>\n",
       "      <td>7174</td>\n",
       "      <td>38061551300</td>\n",
       "      <td>Juan</td>\n",
       "      <td>Mateos</td>\n",
       "      <td>17.0</td>\n",
       "      <td>17</td>\n",
       "      <td>2.0</td>\n",
       "      <td>NaN</td>\n",
       "      <td>4.0</td>\n",
       "      <td>None</td>\n",
       "      <td>Accelerated life testing leds on temperature a...</td>\n",
       "      <td>79955735757</td>\n",
       "      <td>2011-05-12</td>\n",
       "      <td>Proceedings of the 8th Spanish Conference on E...</td>\n",
       "      <td>False</td>\n",
       "      <td>4.0</td>\n",
       "      <td>Conference Paper</td>\n",
       "    </tr>\n",
       "  </tbody>\n",
       "</table>\n",
       "<p>61233 rows × 17 columns</p>\n",
       "</div>"
      ],
      "text/plain": [
       "       Unnamed: 0      auth_id          name           last_name  citations  \\\n",
       "0               0   7005227142  José Antonio               Cobos     5267.0   \n",
       "1               0   7005227142  José Antonio               Cobos     5267.0   \n",
       "2               0   7005227142  José Antonio               Cobos     5267.0   \n",
       "3               0   7005227142  José Antonio               Cobos     5267.0   \n",
       "4               0   7005227142  José Antonio               Cobos     5267.0   \n",
       "...           ...          ...           ...                 ...        ...   \n",
       "61228        7171  57201215949            A.             Toribio        8.0   \n",
       "61229        7172  57190576447  Noemi García              Arjona        1.0   \n",
       "61230        7173  57202283310        Victor  Aparicio Mequiades        1.0   \n",
       "61231        7174  38061551300          Juan              Mateos       17.0   \n",
       "61232        7174  38061551300          Juan              Mateos       17.0   \n",
       "\n",
       "       cited_by  publications orcid  newDocumentCount      pages  \\\n",
       "0          3940         343.0   NaN             345.0    664-678   \n",
       "1          3940         343.0   NaN             345.0  6356-6363   \n",
       "2          3940         343.0   NaN             345.0  1293-1300   \n",
       "3          3940         343.0   NaN             345.0  7375-7379   \n",
       "4          3940         343.0   NaN             345.0  4934-4939   \n",
       "...         ...           ...   ...               ...        ...   \n",
       "61228         8           1.0   NaN               3.0    119-125   \n",
       "61229         1           1.0   NaN               3.0    104-120   \n",
       "61230         1           1.0   NaN               3.0  4803-4813   \n",
       "61231        17           2.0   NaN               4.0  1853-1858   \n",
       "61232        17           2.0   NaN               4.0       None   \n",
       "\n",
       "                                                   title  document_id  \\\n",
       "0      High-Efficiency High-Bandwidth Four-Quadrant F...  85058136304   \n",
       "1      Energy-Buffered Single-Phase Inverter Operatin...  85060314395   \n",
       "2      ZVS transitions in Multi-Mode Single Stage Inv...  85060302761   \n",
       "3      Equivalent Parameters of Round and Litz Wire C...  85060302746   \n",
       "4      Digital Variable Frequency Control of a Single...  85060299891   \n",
       "...                                                  ...          ...   \n",
       "61228  Mechanical properties and adhesive behavior of...  85044000684   \n",
       "61229  Proposals for improving assessment systems in ...  84981263415   \n",
       "61230  Coherent Signal Processing for Traffic Flow Me...  85030762840   \n",
       "61231  Accelerated life test of high luminosity AlGaI...  84866732161   \n",
       "61232  Accelerated life testing leds on temperature a...  79955735757   \n",
       "\n",
       "             date                                            journal  \\\n",
       "0      2019-06-01  IEEE Journal of Emerging and Selected Topics i...   \n",
       "1      2018-12-03  2018 IEEE Energy Conversion Congress and Expos...   \n",
       "2      2018-12-03  2018 IEEE Energy Conversion Congress and Expos...   \n",
       "3      2018-12-03  2018 IEEE Energy Conversion Congress and Expos...   \n",
       "4      2018-12-03  2018 IEEE Energy Conversion Congress and Expos...   \n",
       "...           ...                                                ...   \n",
       "61228  2018-08-01    International Journal of Adhesion and Adhesives   \n",
       "61229  2016-01-01        Journal of Technology and Science Education   \n",
       "61230  2018-06-15                               IEEE Sensors Journal   \n",
       "61231  2012-09-01                       Microelectronics Reliability   \n",
       "61232  2011-05-12  Proceedings of the 8th Spanish Conference on E...   \n",
       "\n",
       "       openaccess  cited_count              type  \n",
       "0           False          0.0           Article  \n",
       "1           False          2.0  Conference Paper  \n",
       "2           False          1.0  Conference Paper  \n",
       "3           False          0.0  Conference Paper  \n",
       "4           False          1.0  Conference Paper  \n",
       "...           ...          ...               ...  \n",
       "61228       False          8.0           Article  \n",
       "61229        True          1.0           Article  \n",
       "61230       False          1.0           Article  \n",
       "61231       False         13.0           Article  \n",
       "61232       False          4.0  Conference Paper  \n",
       "\n",
       "[61233 rows x 17 columns]"
      ]
     },
     "execution_count": 66,
     "metadata": {},
     "output_type": "execute_result"
    }
   ],
   "source": [
    "# This join will creates a new dataframe wich contains one row for each researcher and each publication of that researcher\n",
    "# Including those publications in which is not the first author\n",
    "\n",
    "# Merge both dataframes\n",
    "data = researchers.merge(publications.rename(columns={\"authors\":\"auth_id\"}).explode(\"auth_id\"), on=\"auth_id\")\n",
    "\n",
    "data"
   ]
  },
  {
   "cell_type": "markdown",
   "metadata": {
    "collapsed": true
   },
   "source": [
    "### Plotting"
   ]
  },
  {
   "cell_type": "code",
   "execution_count": 67,
   "metadata": {
    "scrolled": false
   },
   "outputs": [
    {
     "name": "stderr",
     "output_type": "stream",
     "text": [
      "C:\\Users\\jandi\\Anaconda3\\lib\\site-packages\\numpy\\lib\\histograms.py:824: RuntimeWarning: invalid value encountered in greater_equal\n",
      "  keep = (tmp_a >= first_edge)\n",
      "C:\\Users\\jandi\\Anaconda3\\lib\\site-packages\\numpy\\lib\\histograms.py:825: RuntimeWarning: invalid value encountered in less_equal\n",
      "  keep &= (tmp_a <= last_edge)\n"
     ]
    },
    {
     "data": {
      "image/png": "[encoded data removed]",
      "text/plain": [
       "<Figure size 504x360 with 1 Axes>"
      ]
     },
     "metadata": {
      "needs_background": "light"
     },
     "output_type": "display_data"
    }
   ],
   "source": [
    "fig, ax = plt.subplots(figsize=(7,5))\n",
    "# We just need to specify the column we want to plot\n",
    "ax.hist(researchers['publications'])\n",
    "plt.show(fig)"
   ]
  },
  {
   "cell_type": "markdown",
   "metadata": {},
   "source": [
    "Dataframes has a plot method which internally uses matplotlib, in some cases we can just call `myData.plot()` or `myData.plot.[plot type]()` https://pandas.pydata.org/pandas-docs/stable/visualization.html.\n",
    "\n",
    "Try to use some of those plots"
   ]
  },
  {
   "cell_type": "code",
   "execution_count": 68,
   "metadata": {},
   "outputs": [
    {
     "data": {
      "text/plain": [
       "<matplotlib.axes._subplots.AxesSubplot at 0x26a1d4ff848>"
      ]
     },
     "execution_count": 68,
     "metadata": {},
     "output_type": "execute_result"
    },
    {
     "data": {
      "image/png": "[encoded data removed]",
      "text/plain": [
       "<Figure size 432x288 with 1 Axes>"
      ]
     },
     "metadata": {
      "needs_background": "light"
     },
     "output_type": "display_data"
    }
   ],
   "source": [
    "publications.groupby(publications['type'])[\"title\"].count().plot.bar()"
   ]
  },
  {
   "cell_type": "markdown",
   "metadata": {},
   "source": [
    "### Save data\n",
    "Saving a dataframe is quite similar to load data, we will use the methods ``dataframe.to_csv(filename)`` or ``dataframe.to_json(filename)``"
   ]
  },
  {
   "cell_type": "code",
   "execution_count": 69,
   "metadata": {},
   "outputs": [],
   "source": [
    "researchers.to_json(\"researchers2.json\")"
   ]
  },
  {
   "cell_type": "markdown",
   "metadata": {},
   "source": [
    "## Problems\n",
    "### Problem 1\n",
    "Calculate the number of publications and researchers"
   ]
  },
  {
   "cell_type": "code",
   "execution_count": 70,
   "metadata": {},
   "outputs": [
    {
     "name": "stdout",
     "output_type": "stream",
     "text": [
      "Researhcers: 7175\n",
      "Publications: 35964\n"
     ]
    }
   ],
   "source": [
    "n_researchers = len(researchers)\n",
    "n_publications = len(publications)\n",
    "print(\"Researhcers: {}\\nPublications: {}\".format(n_researchers, n_publications))"
   ]
  },
  {
   "cell_type": "markdown",
   "metadata": {},
   "source": [
    "### Problem 2\n",
    "Count the number of different authors that appear in the publications dataframe"
   ]
  },
  {
   "cell_type": "code",
   "execution_count": 71,
   "metadata": {},
   "outputs": [
    {
     "name": "stdout",
     "output_type": "stream",
     "text": [
      "Authors: 51150\n"
     ]
    }
   ],
   "source": [
    "n_authors = len(set(publications[publications.authors.notna()].authors.sum()))\n",
    "print(\"Authors: \"+str(n_authors))"
   ]
  },
  {
   "cell_type": "markdown",
   "metadata": {},
   "source": [
    "### Problem 3\n",
    "Plot the top30 publications with more citations (tip: you can use the method `sort_values` https://pandas.pydata.org/pandas-docs/stable/generated/pandas.DataFrame.sort_values.html)"
   ]
  },
  {
   "cell_type": "code",
   "execution_count": 72,
   "metadata": {},
   "outputs": [
    {
     "data": {
      "text/html": [
       "<div>\n",
       "<style scoped>\n",
       "    .dataframe tbody tr th:only-of-type {\n",
       "        vertical-align: middle;\n",
       "    }\n",
       "\n",
       "    .dataframe tbody tr th {\n",
       "        vertical-align: top;\n",
       "    }\n",
       "\n",
       "    .dataframe thead th {\n",
       "        text-align: right;\n",
       "    }\n",
       "</style>\n",
       "<table border=\"1\" class=\"dataframe\">\n",
       "  <thead>\n",
       "    <tr style=\"text-align: right;\">\n",
       "      <th></th>\n",
       "      <th>pages</th>\n",
       "      <th>authors</th>\n",
       "      <th>title</th>\n",
       "      <th>document_id</th>\n",
       "      <th>date</th>\n",
       "      <th>journal</th>\n",
       "      <th>openaccess</th>\n",
       "      <th>cited_count</th>\n",
       "      <th>type</th>\n",
       "    </tr>\n",
       "  </thead>\n",
       "  <tbody>\n",
       "    <tr>\n",
       "      <td>2152</td>\n",
       "      <td>2507-2517</td>\n",
       "      <td>[6507925214, 6701794860, 7004720416]</td>\n",
       "      <td>A review of feature selection techniques in bi...</td>\n",
       "      <td>35748932917</td>\n",
       "      <td>2007-10-01</td>\n",
       "      <td>Bioinformatics</td>\n",
       "      <td>True</td>\n",
       "      <td>2406.0</td>\n",
       "      <td>Review</td>\n",
       "    </tr>\n",
       "    <tr>\n",
       "      <td>13839</td>\n",
       "      <td>1809-1819</td>\n",
       "      <td>[7007062473, 6602887134, 6603204782, 559364788...</td>\n",
       "      <td>Systemic acquired resistance</td>\n",
       "      <td>0030467334</td>\n",
       "      <td>1996-10-01</td>\n",
       "      <td>Plant Cell</td>\n",
       "      <td>True</td>\n",
       "      <td>1564.0</td>\n",
       "      <td>Review</td>\n",
       "    </tr>\n",
       "    <tr>\n",
       "      <td>34080</td>\n",
       "      <td>1377-1396</td>\n",
       "      <td>[36660601500, 57105018900, 7201900830, 5720853...</td>\n",
       "      <td>Trends in adult body-mass index in 200 countri...</td>\n",
       "      <td>84962949589</td>\n",
       "      <td>2016-04-02</td>\n",
       "      <td>The Lancet</td>\n",
       "      <td>True</td>\n",
       "      <td>1120.0</td>\n",
       "      <td>Article</td>\n",
       "    </tr>\n",
       "    <tr>\n",
       "      <td>20327</td>\n",
       "      <td>1563-1565</td>\n",
       "      <td>[7103239092, 6602159067, 7004556779, 131057280...</td>\n",
       "      <td>Glacial refugia: Hotspots but not melting pots...</td>\n",
       "      <td>0037567252</td>\n",
       "      <td>2003-06-06</td>\n",
       "      <td>Science</td>\n",
       "      <td>False</td>\n",
       "      <td>1119.0</td>\n",
       "      <td>Article</td>\n",
       "    </tr>\n",
       "    <tr>\n",
       "      <td>17056</td>\n",
       "      <td>109-132</td>\n",
       "      <td>[8714520400, 7102751967, 35459043500, 23477233...</td>\n",
       "      <td>Recommender systems survey</td>\n",
       "      <td>84877575207</td>\n",
       "      <td>2013-07-01</td>\n",
       "      <td>Knowledge-Based Systems</td>\n",
       "      <td>False</td>\n",
       "      <td>1112.0</td>\n",
       "      <td>Article</td>\n",
       "    </tr>\n",
       "    <tr>\n",
       "      <td>11265</td>\n",
       "      <td>1611-1618</td>\n",
       "      <td>[7003427286, 7102380690, 57199350919, 72016602...</td>\n",
       "      <td>The Bioperl toolkit: Perl modules for the life...</td>\n",
       "      <td>18644368714</td>\n",
       "      <td>2002-10-01</td>\n",
       "      <td>Genome Research</td>\n",
       "      <td>False</td>\n",
       "      <td>1109.0</td>\n",
       "      <td>Article</td>\n",
       "    </tr>\n",
       "    <tr>\n",
       "      <td>10270</td>\n",
       "      <td>1-122</td>\n",
       "      <td>[7006291912, 6701555846, 6603726429, 266578684...</td>\n",
       "      <td>The structure and dynamics of multilayer networks</td>\n",
       "      <td>84909980102</td>\n",
       "      <td>2014-01-01</td>\n",
       "      <td>Physics Reports</td>\n",
       "      <td>False</td>\n",
       "      <td>1074.0</td>\n",
       "      <td>Review</td>\n",
       "    </tr>\n",
       "    <tr>\n",
       "      <td>26286</td>\n",
       "      <td>517-522</td>\n",
       "      <td>[56485114500, 7006761680, 7408058559]</td>\n",
       "      <td>Arabidopsis gp91&lt;sup&gt;phox&lt;/sup&gt; homologues Atr...</td>\n",
       "      <td>0037039157</td>\n",
       "      <td>2002-01-08</td>\n",
       "      <td>Proceedings of the National Academy of Science...</td>\n",
       "      <td>False</td>\n",
       "      <td>963.0</td>\n",
       "      <td>Article</td>\n",
       "    </tr>\n",
       "    <tr>\n",
       "      <td>10838</td>\n",
       "      <td>53-67</td>\n",
       "      <td>[7102230291, 7006111925, 7101951895, 660211795...</td>\n",
       "      <td>Effects of climate change on global food produ...</td>\n",
       "      <td>1242344212</td>\n",
       "      <td>2004-01-01</td>\n",
       "      <td>Global Environmental Change</td>\n",
       "      <td>False</td>\n",
       "      <td>897.0</td>\n",
       "      <td>Article</td>\n",
       "    </tr>\n",
       "    <tr>\n",
       "      <td>9402</td>\n",
       "      <td>None</td>\n",
       "      <td>[6701416448, 7006804027, 55482872400, 66036591...</td>\n",
       "      <td>The Gaia mission</td>\n",
       "      <td>84998879874</td>\n",
       "      <td>2016-11-01</td>\n",
       "      <td>Astronomy and Astrophysics</td>\n",
       "      <td>True</td>\n",
       "      <td>845.0</td>\n",
       "      <td>Article</td>\n",
       "    </tr>\n",
       "    <tr>\n",
       "      <td>26283</td>\n",
       "      <td>373-378</td>\n",
       "      <td>[56485114500, 7408058559, 7006761680]</td>\n",
       "      <td>Reactive oxygen species signaling in response ...</td>\n",
       "      <td>33745662410</td>\n",
       "      <td>2006-06-01</td>\n",
       "      <td>Plant Physiology</td>\n",
       "      <td>True</td>\n",
       "      <td>833.0</td>\n",
       "      <td>Review</td>\n",
       "    </tr>\n",
       "    <tr>\n",
       "      <td>23290</td>\n",
       "      <td>557-568</td>\n",
       "      <td>[7003505100, 6506050747, 7404216727, 700426925...</td>\n",
       "      <td>Petilla terminology: Nomenclature of features ...</td>\n",
       "      <td>45749115353</td>\n",
       "      <td>2008-07-01</td>\n",
       "      <td>Nature Reviews Neuroscience</td>\n",
       "      <td>False</td>\n",
       "      <td>774.0</td>\n",
       "      <td>Review</td>\n",
       "    </tr>\n",
       "    <tr>\n",
       "      <td>3278</td>\n",
       "      <td>173-196</td>\n",
       "      <td>[7402489050]</td>\n",
       "      <td>Turbulent flows over rough walls</td>\n",
       "      <td>1642360942</td>\n",
       "      <td>2004-01-01</td>\n",
       "      <td>Annual Review of Fluid Mechanics</td>\n",
       "      <td>False</td>\n",
       "      <td>747.0</td>\n",
       "      <td>Article</td>\n",
       "    </tr>\n",
       "    <tr>\n",
       "      <td>16817</td>\n",
       "      <td>467-510</td>\n",
       "      <td>[8256701700, 7403200662, 7102210831]</td>\n",
       "      <td>Wind turbine wake aerodynamics</td>\n",
       "      <td>0142056004</td>\n",
       "      <td>2003-01-01</td>\n",
       "      <td>Progress in Aerospace Sciences</td>\n",
       "      <td>False</td>\n",
       "      <td>739.0</td>\n",
       "      <td>Review</td>\n",
       "    </tr>\n",
       "    <tr>\n",
       "      <td>11204</td>\n",
       "      <td>None</td>\n",
       "      <td>[55741082500, 6701759312, 6602524855, 56525359...</td>\n",
       "      <td>Comment: The FAIR Guiding Principles for scien...</td>\n",
       "      <td>84962269370</td>\n",
       "      <td>2016-03-15</td>\n",
       "      <td>Scientific Data</td>\n",
       "      <td>True</td>\n",
       "      <td>735.0</td>\n",
       "      <td>Article</td>\n",
       "    </tr>\n",
       "    <tr>\n",
       "      <td>4306</td>\n",
       "      <td>1-216</td>\n",
       "      <td>[7408102852, 7005853672]</td>\n",
       "      <td>Reflectarray Antennas</td>\n",
       "      <td>84888994292</td>\n",
       "      <td>2007-03-14</td>\n",
       "      <td>Reflectarray Antennas</td>\n",
       "      <td>False</td>\n",
       "      <td>726.0</td>\n",
       "      <td>Book</td>\n",
       "    </tr>\n",
       "    <tr>\n",
       "      <td>17003</td>\n",
       "      <td>1695-1698</td>\n",
       "      <td>[6602746658, 7005888995, 35200895400, 66031538...</td>\n",
       "      <td>Micro/nano encapsulation via electrified coaxi...</td>\n",
       "      <td>0036500598</td>\n",
       "      <td>2002-03-01</td>\n",
       "      <td>Science</td>\n",
       "      <td>False</td>\n",
       "      <td>725.0</td>\n",
       "      <td>Article</td>\n",
       "    </tr>\n",
       "    <tr>\n",
       "      <td>1885</td>\n",
       "      <td>None</td>\n",
       "      <td>[7102254688, 7003699673, 57206543011, 66031550...</td>\n",
       "      <td>Nonimaging Optics</td>\n",
       "      <td>85013720763</td>\n",
       "      <td>2005-01-01</td>\n",
       "      <td>Nonimaging Optics</td>\n",
       "      <td>False</td>\n",
       "      <td>714.0</td>\n",
       "      <td>Book</td>\n",
       "    </tr>\n",
       "    <tr>\n",
       "      <td>2349</td>\n",
       "      <td>25-32</td>\n",
       "      <td>[57203104256, 9337843600, 7103013280, 13404965...</td>\n",
       "      <td>The SSN ontology of the W3C semantic sensor ne...</td>\n",
       "      <td>84870052907</td>\n",
       "      <td>2012-12-01</td>\n",
       "      <td>Journal of Web Semantics</td>\n",
       "      <td>True</td>\n",
       "      <td>712.0</td>\n",
       "      <td>Article</td>\n",
       "    </tr>\n",
       "    <tr>\n",
       "      <td>33847</td>\n",
       "      <td>345-349</td>\n",
       "      <td>[24355544900, 7007106894, 7006630754]</td>\n",
       "      <td>Lattice gas dynamics with enhanced collisions</td>\n",
       "      <td>84956073211</td>\n",
       "      <td>1989-06-15</td>\n",
       "      <td>EPL</td>\n",
       "      <td>False</td>\n",
       "      <td>679.0</td>\n",
       "      <td>Article</td>\n",
       "    </tr>\n",
       "    <tr>\n",
       "      <td>9401</td>\n",
       "      <td>None</td>\n",
       "      <td>[55482872400, 6603659164, 6701416448, 70068040...</td>\n",
       "      <td>Gaia Data Release 1: Summary of the astrometri...</td>\n",
       "      <td>84998772012</td>\n",
       "      <td>2016-11-01</td>\n",
       "      <td>Astronomy and Astrophysics</td>\n",
       "      <td>True</td>\n",
       "      <td>675.0</td>\n",
       "      <td>Article</td>\n",
       "    </tr>\n",
       "    <tr>\n",
       "      <td>3309</td>\n",
       "      <td>65-90</td>\n",
       "      <td>[7402489050, 7003734773, 7005239441, 6602874942]</td>\n",
       "      <td>The structure of intense vorticity in isotropi...</td>\n",
       "      <td>0027790757</td>\n",
       "      <td>1993-01-01</td>\n",
       "      <td>Journal of Fluid Mechanics</td>\n",
       "      <td>False</td>\n",
       "      <td>664.0</td>\n",
       "      <td>Article</td>\n",
       "    </tr>\n",
       "    <tr>\n",
       "      <td>22905</td>\n",
       "      <td>18-28</td>\n",
       "      <td>[6507688555, 6508211645, 14035886700, 57130087...</td>\n",
       "      <td>Anomaly-based network intrusion detection: Tec...</td>\n",
       "      <td>57849130705</td>\n",
       "      <td>2009-02-01</td>\n",
       "      <td>Computers and Security</td>\n",
       "      <td>False</td>\n",
       "      <td>649.0</td>\n",
       "      <td>Article</td>\n",
       "    </tr>\n",
       "    <tr>\n",
       "      <td>26285</td>\n",
       "      <td>397-403</td>\n",
       "      <td>[56485114500, 7006761680]</td>\n",
       "      <td>Functions of the respiratory burst oxidase in ...</td>\n",
       "      <td>20444458715</td>\n",
       "      <td>2005-08-01</td>\n",
       "      <td>Current Opinion in Plant Biology</td>\n",
       "      <td>False</td>\n",
       "      <td>640.0</td>\n",
       "      <td>Review</td>\n",
       "    </tr>\n",
       "    <tr>\n",
       "      <td>12863</td>\n",
       "      <td>5-31</td>\n",
       "      <td>[7003424903, 35549305800, 7102347190, 35268741...</td>\n",
       "      <td>Ten years of genetic fuzzy systems: Current fr...</td>\n",
       "      <td>0346781553</td>\n",
       "      <td>2004-01-01</td>\n",
       "      <td>Fuzzy Sets and Systems</td>\n",
       "      <td>False</td>\n",
       "      <td>631.0</td>\n",
       "      <td>Conference Paper</td>\n",
       "    </tr>\n",
       "    <tr>\n",
       "      <td>3313</td>\n",
       "      <td>213-240</td>\n",
       "      <td>[7402489050]</td>\n",
       "      <td>The minimal flow unit in near-wall turbulence</td>\n",
       "      <td>0026143059</td>\n",
       "      <td>1990-01-01</td>\n",
       "      <td>Journal of Fluid Mechanics</td>\n",
       "      <td>False</td>\n",
       "      <td>621.0</td>\n",
       "      <td>Article</td>\n",
       "    </tr>\n",
       "    <tr>\n",
       "      <td>3315</td>\n",
       "      <td>663-668</td>\n",
       "      <td>[24355544900, 7402489050]</td>\n",
       "      <td>Boltzmann approach to lattice gas simulations</td>\n",
       "      <td>84945118518</td>\n",
       "      <td>1989-08-01</td>\n",
       "      <td>EPL</td>\n",
       "      <td>False</td>\n",
       "      <td>595.0</td>\n",
       "      <td>Article</td>\n",
       "    </tr>\n",
       "    <tr>\n",
       "      <td>17009</td>\n",
       "      <td>249-275</td>\n",
       "      <td>[7003453432, 7102461064, 7005888995]</td>\n",
       "      <td>Current and droplet size in the electrosprayin...</td>\n",
       "      <td>0038568720</td>\n",
       "      <td>1997-01-01</td>\n",
       "      <td>Journal of Aerosol Science</td>\n",
       "      <td>False</td>\n",
       "      <td>578.0</td>\n",
       "      <td>Article</td>\n",
       "    </tr>\n",
       "    <tr>\n",
       "      <td>24024</td>\n",
       "      <td>4972-4975</td>\n",
       "      <td>[13105118800, 35617431500, 7003663841, 2433249...</td>\n",
       "      <td>From time series to complex networks: The visi...</td>\n",
       "      <td>44349092403</td>\n",
       "      <td>2008-04-01</td>\n",
       "      <td>Proceedings of the National Academy of Science...</td>\n",
       "      <td>True</td>\n",
       "      <td>563.0</td>\n",
       "      <td>Article</td>\n",
       "    </tr>\n",
       "    <tr>\n",
       "      <td>3269</td>\n",
       "      <td>None</td>\n",
       "      <td>[6508374001, 7402489050]</td>\n",
       "      <td>Scaling of the velocity fluctuations in turbul...</td>\n",
       "      <td>33645656128</td>\n",
       "      <td>2006-04-17</td>\n",
       "      <td>Physics of Fluids</td>\n",
       "      <td>False</td>\n",
       "      <td>559.0</td>\n",
       "      <td>Article</td>\n",
       "    </tr>\n",
       "  </tbody>\n",
       "</table>\n",
       "</div>"
      ],
      "text/plain": [
       "           pages                                            authors  \\\n",
       "2152   2507-2517               [6507925214, 6701794860, 7004720416]   \n",
       "13839  1809-1819  [7007062473, 6602887134, 6603204782, 559364788...   \n",
       "34080  1377-1396  [36660601500, 57105018900, 7201900830, 5720853...   \n",
       "20327  1563-1565  [7103239092, 6602159067, 7004556779, 131057280...   \n",
       "17056    109-132  [8714520400, 7102751967, 35459043500, 23477233...   \n",
       "11265  1611-1618  [7003427286, 7102380690, 57199350919, 72016602...   \n",
       "10270      1-122  [7006291912, 6701555846, 6603726429, 266578684...   \n",
       "26286    517-522              [56485114500, 7006761680, 7408058559]   \n",
       "10838      53-67  [7102230291, 7006111925, 7101951895, 660211795...   \n",
       "9402        None  [6701416448, 7006804027, 55482872400, 66036591...   \n",
       "26283    373-378              [56485114500, 7408058559, 7006761680]   \n",
       "23290    557-568  [7003505100, 6506050747, 7404216727, 700426925...   \n",
       "3278     173-196                                       [7402489050]   \n",
       "16817    467-510               [8256701700, 7403200662, 7102210831]   \n",
       "11204       None  [55741082500, 6701759312, 6602524855, 56525359...   \n",
       "4306       1-216                           [7408102852, 7005853672]   \n",
       "17003  1695-1698  [6602746658, 7005888995, 35200895400, 66031538...   \n",
       "1885        None  [7102254688, 7003699673, 57206543011, 66031550...   \n",
       "2349       25-32  [57203104256, 9337843600, 7103013280, 13404965...   \n",
       "33847    345-349              [24355544900, 7007106894, 7006630754]   \n",
       "9401        None  [55482872400, 6603659164, 6701416448, 70068040...   \n",
       "3309       65-90   [7402489050, 7003734773, 7005239441, 6602874942]   \n",
       "22905      18-28  [6507688555, 6508211645, 14035886700, 57130087...   \n",
       "26285    397-403                          [56485114500, 7006761680]   \n",
       "12863       5-31  [7003424903, 35549305800, 7102347190, 35268741...   \n",
       "3313     213-240                                       [7402489050]   \n",
       "3315     663-668                          [24355544900, 7402489050]   \n",
       "17009    249-275               [7003453432, 7102461064, 7005888995]   \n",
       "24024  4972-4975  [13105118800, 35617431500, 7003663841, 2433249...   \n",
       "3269        None                           [6508374001, 7402489050]   \n",
       "\n",
       "                                                   title  document_id  \\\n",
       "2152   A review of feature selection techniques in bi...  35748932917   \n",
       "13839                       Systemic acquired resistance   0030467334   \n",
       "34080  Trends in adult body-mass index in 200 countri...  84962949589   \n",
       "20327  Glacial refugia: Hotspots but not melting pots...   0037567252   \n",
       "17056                         Recommender systems survey  84877575207   \n",
       "11265  The Bioperl toolkit: Perl modules for the life...  18644368714   \n",
       "10270  The structure and dynamics of multilayer networks  84909980102   \n",
       "26286  Arabidopsis gp91<sup>phox</sup> homologues Atr...   0037039157   \n",
       "10838  Effects of climate change on global food produ...   1242344212   \n",
       "9402                                    The Gaia mission  84998879874   \n",
       "26283  Reactive oxygen species signaling in response ...  33745662410   \n",
       "23290  Petilla terminology: Nomenclature of features ...  45749115353   \n",
       "3278                    Turbulent flows over rough walls   1642360942   \n",
       "16817                     Wind turbine wake aerodynamics   0142056004   \n",
       "11204  Comment: The FAIR Guiding Principles for scien...  84962269370   \n",
       "4306                               Reflectarray Antennas  84888994292   \n",
       "17003  Micro/nano encapsulation via electrified coaxi...   0036500598   \n",
       "1885                                   Nonimaging Optics  85013720763   \n",
       "2349   The SSN ontology of the W3C semantic sensor ne...  84870052907   \n",
       "33847      Lattice gas dynamics with enhanced collisions  84956073211   \n",
       "9401   Gaia Data Release 1: Summary of the astrometri...  84998772012   \n",
       "3309   The structure of intense vorticity in isotropi...   0027790757   \n",
       "22905  Anomaly-based network intrusion detection: Tec...  57849130705   \n",
       "26285  Functions of the respiratory burst oxidase in ...  20444458715   \n",
       "12863  Ten years of genetic fuzzy systems: Current fr...   0346781553   \n",
       "3313       The minimal flow unit in near-wall turbulence   0026143059   \n",
       "3315       Boltzmann approach to lattice gas simulations  84945118518   \n",
       "17009  Current and droplet size in the electrosprayin...   0038568720   \n",
       "24024  From time series to complex networks: The visi...  44349092403   \n",
       "3269   Scaling of the velocity fluctuations in turbul...  33645656128   \n",
       "\n",
       "             date                                            journal  \\\n",
       "2152   2007-10-01                                     Bioinformatics   \n",
       "13839  1996-10-01                                         Plant Cell   \n",
       "34080  2016-04-02                                         The Lancet   \n",
       "20327  2003-06-06                                            Science   \n",
       "17056  2013-07-01                            Knowledge-Based Systems   \n",
       "11265  2002-10-01                                    Genome Research   \n",
       "10270  2014-01-01                                    Physics Reports   \n",
       "26286  2002-01-08  Proceedings of the National Academy of Science...   \n",
       "10838  2004-01-01                        Global Environmental Change   \n",
       "9402   2016-11-01                         Astronomy and Astrophysics   \n",
       "26283  2006-06-01                                   Plant Physiology   \n",
       "23290  2008-07-01                        Nature Reviews Neuroscience   \n",
       "3278   2004-01-01                   Annual Review of Fluid Mechanics   \n",
       "16817  2003-01-01                     Progress in Aerospace Sciences   \n",
       "11204  2016-03-15                                    Scientific Data   \n",
       "4306   2007-03-14                              Reflectarray Antennas   \n",
       "17003  2002-03-01                                            Science   \n",
       "1885   2005-01-01                                  Nonimaging Optics   \n",
       "2349   2012-12-01                           Journal of Web Semantics   \n",
       "33847  1989-06-15                                                EPL   \n",
       "9401   2016-11-01                         Astronomy and Astrophysics   \n",
       "3309   1993-01-01                         Journal of Fluid Mechanics   \n",
       "22905  2009-02-01                             Computers and Security   \n",
       "26285  2005-08-01                   Current Opinion in Plant Biology   \n",
       "12863  2004-01-01                             Fuzzy Sets and Systems   \n",
       "3313   1990-01-01                         Journal of Fluid Mechanics   \n",
       "3315   1989-08-01                                                EPL   \n",
       "17009  1997-01-01                         Journal of Aerosol Science   \n",
       "24024  2008-04-01  Proceedings of the National Academy of Science...   \n",
       "3269   2006-04-17                                  Physics of Fluids   \n",
       "\n",
       "       openaccess  cited_count              type  \n",
       "2152         True       2406.0            Review  \n",
       "13839        True       1564.0            Review  \n",
       "34080        True       1120.0           Article  \n",
       "20327       False       1119.0           Article  \n",
       "17056       False       1112.0           Article  \n",
       "11265       False       1109.0           Article  \n",
       "10270       False       1074.0            Review  \n",
       "26286       False        963.0           Article  \n",
       "10838       False        897.0           Article  \n",
       "9402         True        845.0           Article  \n",
       "26283        True        833.0            Review  \n",
       "23290       False        774.0            Review  \n",
       "3278        False        747.0           Article  \n",
       "16817       False        739.0            Review  \n",
       "11204        True        735.0           Article  \n",
       "4306        False        726.0              Book  \n",
       "17003       False        725.0           Article  \n",
       "1885        False        714.0              Book  \n",
       "2349         True        712.0           Article  \n",
       "33847       False        679.0           Article  \n",
       "9401         True        675.0           Article  \n",
       "3309        False        664.0           Article  \n",
       "22905       False        649.0           Article  \n",
       "26285       False        640.0            Review  \n",
       "12863       False        631.0  Conference Paper  \n",
       "3313        False        621.0           Article  \n",
       "3315        False        595.0           Article  \n",
       "17009       False        578.0           Article  \n",
       "24024        True        563.0           Article  \n",
       "3269        False        559.0           Article  "
      ]
     },
     "execution_count": 72,
     "metadata": {},
     "output_type": "execute_result"
    }
   ],
   "source": [
    "publications.sort_values(by=\"cited_count\", ascending=False).iloc[:30]"
   ]
  },
  {
   "cell_type": "markdown",
   "metadata": {},
   "source": [
    "### Problem 4\n",
    "Calculate the number of publications of any kind of each researcher by counting their publications. Then, calculate the number of article type publications of each researcher."
   ]
  },
  {
   "cell_type": "code",
   "execution_count": 73,
   "metadata": {},
   "outputs": [
    {
     "data": {
      "text/html": [
       "<div>\n",
       "<style scoped>\n",
       "    .dataframe tbody tr th:only-of-type {\n",
       "        vertical-align: middle;\n",
       "    }\n",
       "\n",
       "    .dataframe tbody tr th {\n",
       "        vertical-align: top;\n",
       "    }\n",
       "\n",
       "    .dataframe thead th {\n",
       "        text-align: right;\n",
       "    }\n",
       "</style>\n",
       "<table border=\"1\" class=\"dataframe\">\n",
       "  <thead>\n",
       "    <tr style=\"text-align: right;\">\n",
       "      <th></th>\n",
       "      <th>auth_id</th>\n",
       "      <th>document_id</th>\n",
       "    </tr>\n",
       "  </thead>\n",
       "  <tbody>\n",
       "    <tr>\n",
       "      <td>0</td>\n",
       "      <td>6503848928</td>\n",
       "      <td>2</td>\n",
       "    </tr>\n",
       "    <tr>\n",
       "      <td>1</td>\n",
       "      <td>6503890565</td>\n",
       "      <td>4</td>\n",
       "    </tr>\n",
       "    <tr>\n",
       "      <td>2</td>\n",
       "      <td>6503896634</td>\n",
       "      <td>6</td>\n",
       "    </tr>\n",
       "    <tr>\n",
       "      <td>3</td>\n",
       "      <td>6503903714</td>\n",
       "      <td>1</td>\n",
       "    </tr>\n",
       "    <tr>\n",
       "      <td>4</td>\n",
       "      <td>6503939551</td>\n",
       "      <td>1</td>\n",
       "    </tr>\n",
       "    <tr>\n",
       "      <td>...</td>\n",
       "      <td>...</td>\n",
       "      <td>...</td>\n",
       "    </tr>\n",
       "    <tr>\n",
       "      <td>5912</td>\n",
       "      <td>57208623083</td>\n",
       "      <td>1</td>\n",
       "    </tr>\n",
       "    <tr>\n",
       "      <td>5913</td>\n",
       "      <td>57208639475</td>\n",
       "      <td>1</td>\n",
       "    </tr>\n",
       "    <tr>\n",
       "      <td>5914</td>\n",
       "      <td>57208670663</td>\n",
       "      <td>1</td>\n",
       "    </tr>\n",
       "    <tr>\n",
       "      <td>5915</td>\n",
       "      <td>57208685753</td>\n",
       "      <td>1</td>\n",
       "    </tr>\n",
       "    <tr>\n",
       "      <td>5916</td>\n",
       "      <td>57208701829</td>\n",
       "      <td>1</td>\n",
       "    </tr>\n",
       "  </tbody>\n",
       "</table>\n",
       "<p>5917 rows × 2 columns</p>\n",
       "</div>"
      ],
      "text/plain": [
       "          auth_id  document_id\n",
       "0      6503848928            2\n",
       "1      6503890565            4\n",
       "2      6503896634            6\n",
       "3      6503903714            1\n",
       "4      6503939551            1\n",
       "...           ...          ...\n",
       "5912  57208623083            1\n",
       "5913  57208639475            1\n",
       "5914  57208670663            1\n",
       "5915  57208685753            1\n",
       "5916  57208701829            1\n",
       "\n",
       "[5917 rows x 2 columns]"
      ]
     },
     "execution_count": 73,
     "metadata": {},
     "output_type": "execute_result"
    }
   ],
   "source": [
    "#Number of publications\n",
    "data.groupby(\"auth_id\",as_index=False).document_id.count()"
   ]
  },
  {
   "cell_type": "code",
   "execution_count": 74,
   "metadata": {},
   "outputs": [
    {
     "data": {
      "text/html": [
       "<div>\n",
       "<style scoped>\n",
       "    .dataframe tbody tr th:only-of-type {\n",
       "        vertical-align: middle;\n",
       "    }\n",
       "\n",
       "    .dataframe tbody tr th {\n",
       "        vertical-align: top;\n",
       "    }\n",
       "\n",
       "    .dataframe thead th {\n",
       "        text-align: right;\n",
       "    }\n",
       "</style>\n",
       "<table border=\"1\" class=\"dataframe\">\n",
       "  <thead>\n",
       "    <tr style=\"text-align: right;\">\n",
       "      <th></th>\n",
       "      <th>auth_id</th>\n",
       "      <th>document_id</th>\n",
       "    </tr>\n",
       "  </thead>\n",
       "  <tbody>\n",
       "    <tr>\n",
       "      <td>0</td>\n",
       "      <td>6503848928</td>\n",
       "      <td>2</td>\n",
       "    </tr>\n",
       "    <tr>\n",
       "      <td>1</td>\n",
       "      <td>6503890565</td>\n",
       "      <td>1</td>\n",
       "    </tr>\n",
       "    <tr>\n",
       "      <td>2</td>\n",
       "      <td>6503896634</td>\n",
       "      <td>5</td>\n",
       "    </tr>\n",
       "    <tr>\n",
       "      <td>3</td>\n",
       "      <td>6503972941</td>\n",
       "      <td>1</td>\n",
       "    </tr>\n",
       "    <tr>\n",
       "      <td>4</td>\n",
       "      <td>6503978294</td>\n",
       "      <td>3</td>\n",
       "    </tr>\n",
       "    <tr>\n",
       "      <td>...</td>\n",
       "      <td>...</td>\n",
       "      <td>...</td>\n",
       "    </tr>\n",
       "    <tr>\n",
       "      <td>4586</td>\n",
       "      <td>57208597828</td>\n",
       "      <td>1</td>\n",
       "    </tr>\n",
       "    <tr>\n",
       "      <td>4587</td>\n",
       "      <td>57208599115</td>\n",
       "      <td>1</td>\n",
       "    </tr>\n",
       "    <tr>\n",
       "      <td>4588</td>\n",
       "      <td>57208639475</td>\n",
       "      <td>1</td>\n",
       "    </tr>\n",
       "    <tr>\n",
       "      <td>4589</td>\n",
       "      <td>57208670663</td>\n",
       "      <td>1</td>\n",
       "    </tr>\n",
       "    <tr>\n",
       "      <td>4590</td>\n",
       "      <td>57208701829</td>\n",
       "      <td>1</td>\n",
       "    </tr>\n",
       "  </tbody>\n",
       "</table>\n",
       "<p>4591 rows × 2 columns</p>\n",
       "</div>"
      ],
      "text/plain": [
       "          auth_id  document_id\n",
       "0      6503848928            2\n",
       "1      6503890565            1\n",
       "2      6503896634            5\n",
       "3      6503972941            1\n",
       "4      6503978294            3\n",
       "...           ...          ...\n",
       "4586  57208597828            1\n",
       "4587  57208599115            1\n",
       "4588  57208639475            1\n",
       "4589  57208670663            1\n",
       "4590  57208701829            1\n",
       "\n",
       "[4591 rows x 2 columns]"
      ]
     },
     "execution_count": 74,
     "metadata": {},
     "output_type": "execute_result"
    }
   ],
   "source": [
    "#Number of articles\n",
    "data[data.type==\"Article\"].groupby(\"auth_id\",as_index=False).document_id.count()"
   ]
  }
 ],
 "metadata": {
  "celltoolbar": "Raw Cell Format",
  "kernelspec": {
   "display_name": "Python 3",
   "language": "python",
   "name": "python3"
  },
  "language_info": {
   "codemirror_mode": {
    "name": "ipython",
    "version": 3
   },
   "file_extension": ".py",
   "mimetype": "text/x-python",
   "name": "python",
   "nbconvert_exporter": "python",
   "pygments_lexer": "ipython3",
   "version": "3.8.3"
  }
 },
 "nbformat": 4,
 "nbformat_minor": 2
}
